{
 "cells": [
  {
   "cell_type": "markdown",
   "metadata": {},
   "source": [
    "# Classification Voting Classifier VS VecStack VS Mlxtend\n",
    "\n",
    "**Comparing 3 stacking \"methods\" for classifiction problems: Vecstack, Voting Classifier, Mlxtend**<br>"
   ]
  },
  {
   "cell_type": "markdown",
   "metadata": {},
   "source": [
    "### Table of Contents\n",
    "\n",
    "* [**Database and Simple-Mode**](#Database-and-Simple-Mode)\n",
    "    * [Data base: breast cancer](#Database)\n",
    "    * [Models](#Models)\n",
    "    * [In Sample Scoring: Standalone Models](#ins1)\n",
    "    * [Out Sample Scoring: Standalone Models](#ins2)\n",
    "\n",
    "\n",
    "* [**VecStack**](#Vec)\n",
    "    * [In Sample Scoring:VecStack](#Veci)\n",
    "    * [Out Sample Scoring:VecStack](#Veco)\n",
    "    \n",
    "    \n",
    "* [**Voting Classifier**](#vc)\n",
    "    * [In Sample Scoring:Voting Classifier](#vci)\n",
    "    * [Out Sample Scoring:Voting Classifier](#vco)\n",
    "\n",
    "\n",
    "* [**Mlxtend**](#ml)\n",
    "    * [In Sample Scoring:Mlxtend](#mli)\n",
    "    * [Out Sample Scoring:Mlxtend](#mlo)\n",
    "    \n",
    "\n",
    "* [**Grid Search**](#ad)"
   ]
  },
  {
   "cell_type": "markdown",
   "metadata": {},
   "source": [
    "### Methodology\n",
    "The aim was to compare the results of 3 stacking \"methods\".<br>\n",
    "**For Vecstack and Mlxtend**, I used as base models: *Gradient Boosting Classifier (GBC), XGBoost Classifier (XGB), and Random Forest (RF) and Light Gradient Boosting Method (LGBM)* as metalearner. <br>**For Voting Classifier**, I used all four models with equal weight to create a stacked model.<br>\n",
    "\n"
   ]
  },
  {
   "cell_type": "markdown",
   "metadata": {},
   "source": [
    "### Findings\n",
    "Use-cases (based on out of sample scores):\n",
    "- 1) Comparison between Vecstack and Mlxtend: GBC and RF have exactly the same score (0.89 and 0.93) and mlxtend xgb is slightly higher that vecstack (0.982 vs 0.973).Therefor, we could expect similar resluts for both stacking models **BUT**:<br>\n",
    "**Mlxtend stacked model is of 0.903 while Vecstack is at 0.982**\n",
    "- 2) Comparison between Voting Classifier and Vecstack (only comparing the stacked model results):<br>\n",
    "**Voting Classifier is at 0.964 while Vectstack is at 0.982**"
   ]
  },
  {
   "cell_type": "markdown",
   "metadata": {},
   "source": [
    "### Conclusion<br>\n",
    "**Out of the three stacking methods only Vecstack methods has a stacking score higher that all individual models**. Therefore, it converged the weak learners into strong learners.<br>\n",
    "\n",
    "Before doing this exercise, I was expecting some minor differences between each score (mostly related to different implementation of the stacking algorithm) but not a difference of **8%** between two methods.<br>\n",
    "\n",
    "Another important point to mention is that only Mlxtend have a lower out of sample score that in sample (which is expected). For Vecstack and Voting Classifier it is the opposite, I am not sure of the reasons, maybe it comes from the dataset or the cross-validation – **in general, out of sample score should “always” be lower than in sample score.**\n",
    "\n",
    "**Important note:** I am NOT pretending that Vecstack is better than Mlxtend or Voting classifier, for this database it seems yes. The results might be different with another dataset or features engineering.\n"
   ]
  },
  {
   "cell_type": "markdown",
   "metadata": {},
   "source": [
    "**Stacking Classifier rescources:**<br>\n",
    "Vecstack: [Github]( https://github.com/vecxoz/vecstack)<br>\n",
    "Voting Classifier: [Sklearn Ensemble]( http://scikit-learn.org/stable/modules/generated/sklearn.ensemble.VotingClassifier.html)<br>\n",
    "Mlxtend:  [Github]( https://rasbt.github.io/mlxtend/)<br>\n"
   ]
  },
  {
   "cell_type": "markdown",
   "metadata": {},
   "source": [
    "#### Basic Libraries"
   ]
  },
  {
   "cell_type": "code",
   "execution_count": 1,
   "metadata": {
    "collapsed": true
   },
   "outputs": [],
   "source": [
    "import pandas as pd\n",
    "import numpy as np"
   ]
  },
  {
   "cell_type": "markdown",
   "metadata": {},
   "source": [
    "## Database and Simple Model <a class = \"anchor\" id=\"Database-and-Simple-Mode\"></a>"
   ]
  },
  {
   "cell_type": "markdown",
   "metadata": {},
   "source": [
    "#### DataBase <a class = \"anchor\" id=\"Database\"></a>\n",
    "I load the \"breast cancer\" Database for this exercice (it is one of the pre build database available on Sklearn)."
   ]
  },
  {
   "cell_type": "code",
   "execution_count": 2,
   "metadata": {},
   "outputs": [
    {
     "name": "stdout",
     "output_type": "stream",
     "text": [
      "features shape (569, 30)\n",
      "target shape (569,)\n"
     ]
    }
   ],
   "source": [
    "from sklearn.datasets import load_breast_cancer\n",
    "\n",
    "#import breast cancer data set (binary target [0,1])\n",
    "df = load_breast_cancer()\n",
    "\n",
    "#quick check on the data and traget shape\n",
    "print(\"features shape\",df.data.shape)\n",
    "print(\"target shape\",df.target.shape)\n",
    "\n",
    "features = df.data\n",
    "target = df.target"
   ]
  },
  {
   "cell_type": "markdown",
   "metadata": {},
   "source": [
    "#### Modelling Libraries"
   ]
  },
  {
   "cell_type": "code",
   "execution_count": 3,
   "metadata": {
    "collapsed": true
   },
   "outputs": [],
   "source": [
    "from sklearn.ensemble import GradientBoostingClassifier, RandomForestClassifier, VotingClassifier\n",
    "from sklearn.model_selection import GridSearchCV, train_test_split\n",
    "from xgboost import XGBClassifier\n",
    "from lightgbm import LGBMClassifier\n",
    "from sklearn.model_selection import cross_val_score\n",
    "from sklearn.metrics import accuracy_score\n",
    "from sklearn.model_selection import KFold\n"
   ]
  },
  {
   "cell_type": "code",
   "execution_count": 4,
   "metadata": {
    "collapsed": true
   },
   "outputs": [],
   "source": [
    "#Cross Validation\n",
    "kfold = KFold(n_splits=3, shuffle=False, random_state=42)\n",
    "\n",
    "#Cross Validation function\n",
    "def classification_crossvalscore(model, x, y):\n",
    "    acc = cross_val_score(model, x, y, scoring = 'accuracy', cv = kfold )\n",
    "    #prec = cross_val_score(model, x, y, scoring = 'precision', cv = 5)\n",
    "    #recall = cross_val_score(model, x, y, scoring = 'recall', cv = 5)\n",
    "    #rocauc = cross_val_score(model, x, y, scoring = 'roc_auc', cv = 5)\n",
    "    return acc#, prec, recall, rocauc"
   ]
  },
  {
   "cell_type": "markdown",
   "metadata": {},
   "source": [
    "#### Split in training and testing"
   ]
  },
  {
   "cell_type": "code",
   "execution_count": 5,
   "metadata": {
    "collapsed": true
   },
   "outputs": [],
   "source": [
    "X_train, X_test, y_train, y_test = train_test_split(features, target, test_size = .2, random_state = 42, shuffle = False)"
   ]
  },
  {
   "cell_type": "markdown",
   "metadata": {},
   "source": [
    "#### Models - with Gridsearch <a class = \"anchor\" id=\"Models\">"
   ]
  },
  {
   "cell_type": "code",
   "execution_count": 6,
   "metadata": {
    "collapsed": true
   },
   "outputs": [],
   "source": [
    "#Gradient Boosting\n",
    "model1 = GradientBoostingClassifier(criterion='friedman_mse',\n",
    "                                    learning_rate= 0.5,\n",
    "                                    loss= 'deviance', \n",
    "                                    max_depth= 100, \n",
    "                                    n_estimators= 100)\n",
    "\n",
    "#model1 = model1.fit(X_train,y_train)\n",
    "\n",
    "#XGBoost\n",
    "model2 = XGBClassifier(booster='gbtree',\n",
    "                       gamma= 0, \n",
    "                       learning_rate= 0.5,\n",
    "                       max_depth= 3,\n",
    "                       n_estimators= 100, \n",
    "                       objective= 'binary:logistic')\n",
    "\n",
    "#model2 = model2.fit(X_train,y_train)\n",
    "\n",
    "#Random Forest\n",
    "model3 = RandomForestClassifier(criterion= 'gini',\n",
    "                                max_depth = 100,\n",
    "                                min_samples_leaf= 1,\n",
    "                                min_samples_split= 2,\n",
    "                                n_estimators= 20)\n",
    "\n",
    "#model3 = model3.fit(X_train,y_train)\n",
    "\n",
    "#lightGBM\n",
    "model4 = LGBMClassifier(boosting_type = 'gbdt',\n",
    "                        learning_rate = 0.5,\n",
    "                        max_depth = -1,\n",
    "                        n_estimators = 1000,\n",
    "                        num_leaves = 31)\n"
   ]
  },
  {
   "cell_type": "markdown",
   "metadata": {},
   "source": [
    "#### In Sample Scoring Standalone Model <a class = \"anchor\" id=\"ins1\">"
   ]
  },
  {
   "cell_type": "code",
   "execution_count": 7,
   "metadata": {},
   "outputs": [
    {
     "name": "stdout",
     "output_type": "stream",
     "text": [
      "GBC 0.907764029278\n",
      "XGB 0.953816660857\n",
      "RF 0.958246194958\n",
      "LGBM 0.956067735564\n"
     ]
    }
   ],
   "source": [
    "for model,label in zip([model1,model2,model3, model4],[\"GBC\",\"XGB\", \"RF\", \"LGBM\"]):\n",
    "              print(label,classification_crossvalscore(model,X_train,y_train).mean())"
   ]
  },
  {
   "cell_type": "code",
   "execution_count": 8,
   "metadata": {
    "collapsed": true
   },
   "outputs": [],
   "source": [
    "#predict model and stack model\n",
    "GBC_pred = model1.fit(X_train,y_train).predict(X_test)\n",
    "XGB_pred = model2.fit(X_train,y_train).predict(X_test)\n",
    "RF_pred = model3.fit(X_train,y_train).predict(X_test)\n",
    "LGB_pred = model4.fit(X_train,y_train).predict(X_test)"
   ]
  },
  {
   "cell_type": "markdown",
   "metadata": {},
   "source": [
    "#### Out Sample Scoring Standalone Model <a class = \"anchor\" id=\"ins2\">"
   ]
  },
  {
   "cell_type": "code",
   "execution_count": 9,
   "metadata": {},
   "outputs": [
    {
     "name": "stdout",
     "output_type": "stream",
     "text": [
      "Out Sample scoring-Standalone\n",
      "GBC 0.927558963634\n",
      "XGB 0.953816660857\n",
      "RF 0.949416172883\n",
      "LGBM 0.956067735564\n"
     ]
    }
   ],
   "source": [
    "print(\"Out Sample scoring-Standalone\")\n",
    "\n",
    "\n",
    "for model,label in zip([model1,model2,model3, model4],[\"GBC\",\"XGB\", \"RF\", \"LGBM\"]):\n",
    "              print(label,classification_crossvalscore(model,X_train,y_train).mean())"
   ]
  },
  {
   "cell_type": "markdown",
   "metadata": {},
   "source": [
    "## Vecstack Stacking <a class = \"anchor\" id=\"Vec\">"
   ]
  },
  {
   "cell_type": "code",
   "execution_count": 10,
   "metadata": {},
   "outputs": [
    {
     "name": "stdout",
     "output_type": "stream",
     "text": [
      "task:         [classification]\n",
      "n_classes:    [2]\n",
      "metric:       [accuracy_score]\n",
      "mode:         [oof_pred_bag]\n",
      "n_models:     [3]\n",
      "\n",
      "model  0:     [GradientBoostingClassifier]\n",
      "    fold  0:  [0.94078947]\n",
      "    fold  1:  [0.92763158]\n",
      "    fold  2:  [0.91390728]\n",
      "    ----\n",
      "    MEAN:     [0.92744278] + [0.01097542]\n",
      "    FULL:     [0.92747253]\n",
      "\n",
      "model  1:     [XGBClassifier]\n",
      "    fold  0:  [0.95394737]\n",
      "    fold  1:  [0.94736842]\n",
      "    fold  2:  [0.95364238]\n",
      "    ----\n",
      "    MEAN:     [0.95165272] + [0.00303202]\n",
      "    FULL:     [0.95164835]\n",
      "\n",
      "model  2:     [RandomForestClassifier]\n",
      "    fold  0:  [0.96052632]\n",
      "    fold  1:  [0.96052632]\n",
      "    fold  2:  [0.94701987]\n",
      "    ----\n",
      "    MEAN:     [0.95602417] + [0.00636700]\n",
      "    FULL:     [0.95604396]\n",
      "\n"
     ]
    }
   ],
   "source": [
    "from vecstack import stacking\n",
    "\n",
    "#Initialize first level\n",
    "models = [model1, model2, model3] #input models as a list for metamodel\n",
    "\n",
    "#Performing Stacking\n",
    "S_train, S_test = stacking(models,                     # list of models\n",
    "                           X_train, y_train, X_test,   # data\n",
    "                           regression=False,            # regression task (if you need  classification - set to False)\n",
    "                           mode='oof_pred_bag',        # mode: oof for train set, predict test  //set in each fold and find mean\n",
    "                           save_dir=None,              # do not save result and log (to save in current dir - set to '.')\n",
    "                           metric=accuracy_score,      # metric: callable\n",
    "                           n_folds=3,                  # number of folds\n",
    "                           shuffle=True,               # shuffle the data\n",
    "                           random_state=42,             # ensure reproducibility\n",
    "                           verbose=2)                  # print all info \"\"\"\n",
    "\n",
    "\n",
    "# Initialize 2nd level model  with XGB\n",
    "model = model4\n",
    "    \n",
    "# Fit 2nd level model\n",
    "stack = model.fit(S_train, y_train)\n",
    "\n",
    "# Predict\n",
    "#y_pred = model.predict(S_test)"
   ]
  },
  {
   "cell_type": "markdown",
   "metadata": {},
   "source": [
    "#### In Sample Scoring-Vecstack<a class = \"anchor\" id=\"Veci\">"
   ]
  },
  {
   "cell_type": "code",
   "execution_count": 11,
   "metadata": {},
   "outputs": [
    {
     "name": "stdout",
     "output_type": "stream",
     "text": [
      "In Sample scoring-Vecstack\n",
      "GBC 0.916550482166\n",
      "XGB 0.953816660857\n",
      "RF 0.953860230045\n",
      "Vecstack 0.956067735564\n"
     ]
    }
   ],
   "source": [
    "print(\"In Sample scoring-Vecstack\")\n",
    "\n",
    "\n",
    "for model,label in zip([model1,model2,model3, stack],[\"GBC\",\"XGB\", \"RF\", \"Vecstack\"]):\n",
    "              print(label,classification_crossvalscore(model,X_train,y_train).mean())"
   ]
  },
  {
   "cell_type": "markdown",
   "metadata": {},
   "source": [
    "#### Out of Sample scoring-Vecstack<a class = \"anchor\" id=\"Veco\">"
   ]
  },
  {
   "cell_type": "code",
   "execution_count": 12,
   "metadata": {
    "collapsed": true
   },
   "outputs": [],
   "source": [
    "#predict model and stack model\n",
    "GBC_pred = model1.fit(X_train,y_train).predict(X_test)\n",
    "XGB_pred = model2.fit(X_train,y_train).predict(X_test)\n",
    "RF_pred = model3.fit(X_train,y_train).predict(X_test)\n",
    "stack_pred = stack.predict(S_test)  #has to be on the S_test not on X_test"
   ]
  },
  {
   "cell_type": "code",
   "execution_count": 13,
   "metadata": {},
   "outputs": [
    {
     "name": "stdout",
     "output_type": "stream",
     "text": [
      "Out of Sample scoring-Vecstack\n",
      "GBC 0.894736842105\n",
      "XGB 0.973684210526\n",
      "RF 0.938596491228\n",
      "Vecstack 0.982456140351\n"
     ]
    }
   ],
   "source": [
    "#accuracy score out of sample\n",
    "print(\"Out of Sample scoring-Vecstack\")\n",
    "\n",
    "for model, label in zip([GBC_pred, XGB_pred, RF_pred, stack_pred],[\"GBC\",\"XGB\", \"RF\", \"Vecstack\"]):\n",
    "    print(label,accuracy_score(y_test, model, normalize = True)) "
   ]
  },
  {
   "cell_type": "markdown",
   "metadata": {},
   "source": [
    "## Voting Classifier Stacking<a class = \"anchor\" id=\"vc\">"
   ]
  },
  {
   "cell_type": "code",
   "execution_count": 14,
   "metadata": {
    "collapsed": true
   },
   "outputs": [],
   "source": [
    "estimators = [('GBC', model1),('XGB', model2),('RF', model3), ('LGBM', model4)]\n",
    "\n",
    "#Voting Classifier\n",
    "ecf = VotingClassifier(estimators= estimators,\n",
    "                          voting='soft',            #soft for probability\n",
    "                          weights=None,\n",
    "                          n_jobs=1,\n",
    "                          flatten_transform=None\n",
    "                          )\n",
    "\n",
    "\n",
    "#Voting Classifier fit\n",
    "vc = ecf.fit(X_train, y_train)\n",
    "\n",
    "#Voting Classifier predict\n",
    "VC_pred=vc.predict(X_test)"
   ]
  },
  {
   "cell_type": "markdown",
   "metadata": {},
   "source": [
    "#### In Sample Scoring-Voting Classifier<a class = \"anchor\" id=\"vci\">"
   ]
  },
  {
   "cell_type": "code",
   "execution_count": 15,
   "metadata": {},
   "outputs": [
    {
     "name": "stdout",
     "output_type": "stream",
     "text": [
      "In Sample scoring-Voting Classifier\n",
      "GBC 0.923158475659\n",
      "XGB 0.953816660857\n",
      "RF 0.938451260602\n",
      "LGBM 0.956067735564\n",
      "VC_stack 0.949474265133\n"
     ]
    }
   ],
   "source": [
    "print(\"In Sample scoring-Voting Classifier\")\n",
    "\n",
    "for model,label in zip([model1,model2,model3,model4, vc],[\"GBC\",\"XGB\", \"RF\",\"LGBM\" ,\"VC_stack\"]):\n",
    "              print(label,classification_crossvalscore(model,X_train,y_train).mean())"
   ]
  },
  {
   "cell_type": "markdown",
   "metadata": {},
   "source": [
    "#### Out of Sample Scoring-Voting Classifier<a class = \"anchor\" id=\"vco\">"
   ]
  },
  {
   "cell_type": "code",
   "execution_count": 16,
   "metadata": {},
   "outputs": [
    {
     "name": "stdout",
     "output_type": "stream",
     "text": [
      "Out of Sample scoring-Voting Classifier\n",
      "GBC 0.894736842105\n",
      "XGB 0.973684210526\n",
      "RF 0.938596491228\n",
      "LGBM 0.982456140351\n",
      "VC_stack 0.964912280702\n"
     ]
    }
   ],
   "source": [
    "#accuracy score out of sample\n",
    "print(\"Out of Sample scoring-Voting Classifier\")\n",
    "\n",
    "\n",
    "for model, label in zip([GBC_pred, XGB_pred, RF_pred,LGB_pred,VC_pred],[\"GBC\",\"XGB\", \"RF\",\"LGBM\" ,\"VC_stack\"]):\n",
    "    print(label,accuracy_score(y_test, model, normalize = True)) "
   ]
  },
  {
   "cell_type": "markdown",
   "metadata": {},
   "source": [
    "## Mlxtend Stacking<a class = \"anchor\" id=\"ml\">"
   ]
  },
  {
   "cell_type": "code",
   "execution_count": 17,
   "metadata": {
    "collapsed": true
   },
   "outputs": [],
   "source": [
    "from mlxtend.classifier import StackingClassifier"
   ]
  },
  {
   "cell_type": "code",
   "execution_count": 18,
   "metadata": {
    "collapsed": true
   },
   "outputs": [],
   "source": [
    "#models classifier\n",
    "classifiers = [model1,model2,model3]\n",
    "\n",
    "#stacking classifier\n",
    "stack_c = StackingClassifier(classifiers = classifiers,\n",
    "                            meta_classifier=model4)\n",
    "\n",
    "#mlxtend classifier fit\n",
    "stack = stack_c.fit(X_train, y_train)\n",
    "\n",
    "#mlxtend classifier predict\n",
    "mlx_pred=stack.predict(X_test)"
   ]
  },
  {
   "cell_type": "markdown",
   "metadata": {},
   "source": [
    "#### In Sample Scoring-mlxtend Classifier<a class = \"anchor\" id=\"mli\">"
   ]
  },
  {
   "cell_type": "code",
   "execution_count": 19,
   "metadata": {},
   "outputs": [
    {
     "name": "stdout",
     "output_type": "stream",
     "text": [
      "In Sample scoring-mlxtend Classifier\n",
      "GBC 0.91878703381\n",
      "XGB 0.953816660857\n",
      "RF 0.945088300221\n",
      "mlx_stack 0.94945974207\n"
     ]
    }
   ],
   "source": [
    "print(\"In Sample scoring-mlxtend Classifier\")\n",
    "\n",
    "for model,label in zip([model1,model2,model3, vc],[\"GBC\",\"XGB\", \"RF\", \"mlx_stack\"]):\n",
    "              print(label,classification_crossvalscore(model,X_train,y_train).mean())"
   ]
  },
  {
   "cell_type": "markdown",
   "metadata": {},
   "source": [
    "#### Out of Sample Scoring-mlxtend Classifier<a class = \"anchor\" id=\"mlo\">"
   ]
  },
  {
   "cell_type": "code",
   "execution_count": 20,
   "metadata": {},
   "outputs": [
    {
     "name": "stdout",
     "output_type": "stream",
     "text": [
      "Out of Sample scoring-mlxtend Classifier\n",
      "GBC 0.894736842105\n",
      "XGB 0.982456140351\n",
      "RF 0.938596491228\n",
      "mlx_stack 0.90350877193\n"
     ]
    }
   ],
   "source": [
    "#accuracy score out of sample\n",
    "print(\"Out of Sample scoring-mlxtend Classifier\")\n",
    "\n",
    "for model, label in zip([GBC_pred, LGB_pred, RF_pred, mlx_pred],[\"GBC\",\"XGB\", \"RF\", \"mlx_stack\"]):\n",
    "    print(label,accuracy_score(y_test, model, normalize = True)) "
   ]
  },
  {
   "cell_type": "markdown",
   "metadata": {},
   "source": [
    "## Ad hoc Grid search<a class = \"anchor\" id=\"ad\">"
   ]
  },
  {
   "cell_type": "code",
   "execution_count": 145,
   "metadata": {},
   "outputs": [
    {
     "name": "stdout",
     "output_type": "stream",
     "text": [
      "Fitting 3 folds for each of 18 candidates, totalling 54 fits\n",
      "[CV] criterion=friedman_mse, learning_rate=0.1, loss=deviance, max_depth=None, n_estimators=100 \n",
      "[CV]  criterion=friedman_mse, learning_rate=0.1, loss=deviance, max_depth=None, n_estimators=100, score=0.9342105263157895, total=   0.0s\n",
      "[CV] criterion=friedman_mse, learning_rate=0.1, loss=deviance, max_depth=None, n_estimators=100 \n"
     ]
    },
    {
     "name": "stderr",
     "output_type": "stream",
     "text": [
      "[Parallel(n_jobs=1)]: Done   1 out of   1 | elapsed:    0.0s remaining:    0.0s\n",
      "[Parallel(n_jobs=1)]: Done   2 out of   2 | elapsed:    0.1s remaining:    0.0s\n"
     ]
    },
    {
     "name": "stdout",
     "output_type": "stream",
     "text": [
      "[CV]  criterion=friedman_mse, learning_rate=0.1, loss=deviance, max_depth=None, n_estimators=100, score=0.9342105263157895, total=   0.0s\n",
      "[CV] criterion=friedman_mse, learning_rate=0.1, loss=deviance, max_depth=None, n_estimators=100 \n",
      "[CV]  criterion=friedman_mse, learning_rate=0.1, loss=deviance, max_depth=None, n_estimators=100, score=0.9403973509933775, total=   0.1s\n",
      "[CV] criterion=friedman_mse, learning_rate=0.1, loss=deviance, max_depth=None, n_estimators=200 \n"
     ]
    },
    {
     "name": "stderr",
     "output_type": "stream",
     "text": [
      "[Parallel(n_jobs=1)]: Done   3 out of   3 | elapsed:    0.3s remaining:    0.0s\n",
      "[Parallel(n_jobs=1)]: Done   4 out of   4 | elapsed:    0.4s remaining:    0.0s\n"
     ]
    },
    {
     "name": "stdout",
     "output_type": "stream",
     "text": [
      "[CV]  criterion=friedman_mse, learning_rate=0.1, loss=deviance, max_depth=None, n_estimators=200, score=0.9342105263157895, total=   0.0s\n",
      "[CV] criterion=friedman_mse, learning_rate=0.1, loss=deviance, max_depth=None, n_estimators=200 \n",
      "[CV]  criterion=friedman_mse, learning_rate=0.1, loss=deviance, max_depth=None, n_estimators=200, score=0.9342105263157895, total=   0.0s\n",
      "[CV] criterion=friedman_mse, learning_rate=0.1, loss=deviance, max_depth=None, n_estimators=200 \n",
      "[CV]  criterion=friedman_mse, learning_rate=0.1, loss=deviance, max_depth=None, n_estimators=200, score=0.9403973509933775, total=   0.1s\n",
      "[CV] criterion=friedman_mse, learning_rate=0.1, loss=deviance, max_depth=None, n_estimators=1000 \n",
      "[CV]  criterion=friedman_mse, learning_rate=0.1, loss=deviance, max_depth=None, n_estimators=1000, score=0.9276315789473685, total=   0.1s\n",
      "[CV] criterion=friedman_mse, learning_rate=0.1, loss=deviance, max_depth=None, n_estimators=1000 \n",
      "[CV]  criterion=friedman_mse, learning_rate=0.1, loss=deviance, max_depth=None, n_estimators=1000, score=0.9342105263157895, total=   0.1s\n",
      "[CV] criterion=friedman_mse, learning_rate=0.1, loss=deviance, max_depth=None, n_estimators=1000 \n",
      "[CV]  criterion=friedman_mse, learning_rate=0.1, loss=deviance, max_depth=None, n_estimators=1000, score=0.9403973509933775, total=   0.2s\n",
      "[CV] criterion=friedman_mse, learning_rate=0.1, loss=deviance, max_depth=100, n_estimators=100 \n",
      "[CV]  criterion=friedman_mse, learning_rate=0.1, loss=deviance, max_depth=100, n_estimators=100, score=0.9407894736842105, total=   0.0s\n",
      "[CV] criterion=friedman_mse, learning_rate=0.1, loss=deviance, max_depth=100, n_estimators=100 \n",
      "[CV]  criterion=friedman_mse, learning_rate=0.1, loss=deviance, max_depth=100, n_estimators=100, score=0.9342105263157895, total=   0.0s\n",
      "[CV] criterion=friedman_mse, learning_rate=0.1, loss=deviance, max_depth=100, n_estimators=100 \n",
      "[CV]  criterion=friedman_mse, learning_rate=0.1, loss=deviance, max_depth=100, n_estimators=100, score=0.9403973509933775, total=   0.0s\n",
      "[CV] criterion=friedman_mse, learning_rate=0.1, loss=deviance, max_depth=100, n_estimators=200 \n",
      "[CV]  criterion=friedman_mse, learning_rate=0.1, loss=deviance, max_depth=100, n_estimators=200, score=0.9407894736842105, total=   0.0s\n",
      "[CV] criterion=friedman_mse, learning_rate=0.1, loss=deviance, max_depth=100, n_estimators=200 \n",
      "[CV]  criterion=friedman_mse, learning_rate=0.1, loss=deviance, max_depth=100, n_estimators=200, score=0.9276315789473685, total=   0.0s\n",
      "[CV] criterion=friedman_mse, learning_rate=0.1, loss=deviance, max_depth=100, n_estimators=200 \n",
      "[CV]  criterion=friedman_mse, learning_rate=0.1, loss=deviance, max_depth=100, n_estimators=200, score=0.9403973509933775, total=   0.0s\n",
      "[CV] criterion=friedman_mse, learning_rate=0.1, loss=deviance, max_depth=100, n_estimators=1000 \n",
      "[CV]  criterion=friedman_mse, learning_rate=0.1, loss=deviance, max_depth=100, n_estimators=1000, score=0.9407894736842105, total=   0.4s\n",
      "[CV] criterion=friedman_mse, learning_rate=0.1, loss=deviance, max_depth=100, n_estimators=1000 \n",
      "[CV]  criterion=friedman_mse, learning_rate=0.1, loss=deviance, max_depth=100, n_estimators=1000, score=0.9342105263157895, total=   0.7s\n",
      "[CV] criterion=friedman_mse, learning_rate=0.1, loss=deviance, max_depth=100, n_estimators=1000 \n",
      "[CV]  criterion=friedman_mse, learning_rate=0.1, loss=deviance, max_depth=100, n_estimators=1000, score=0.9403973509933775, total=   0.4s\n",
      "[CV] criterion=friedman_mse, learning_rate=0.5, loss=deviance, max_depth=None, n_estimators=100 \n",
      "[CV]  criterion=friedman_mse, learning_rate=0.5, loss=deviance, max_depth=None, n_estimators=100, score=0.9342105263157895, total=   0.0s\n",
      "[CV] criterion=friedman_mse, learning_rate=0.5, loss=deviance, max_depth=None, n_estimators=100 \n",
      "[CV]  criterion=friedman_mse, learning_rate=0.5, loss=deviance, max_depth=None, n_estimators=100, score=0.9342105263157895, total=   0.0s\n",
      "[CV] criterion=friedman_mse, learning_rate=0.5, loss=deviance, max_depth=None, n_estimators=100 \n",
      "[CV]  criterion=friedman_mse, learning_rate=0.5, loss=deviance, max_depth=None, n_estimators=100, score=0.9337748344370861, total=   0.0s\n",
      "[CV] criterion=friedman_mse, learning_rate=0.5, loss=deviance, max_depth=None, n_estimators=200 \n",
      "[CV]  criterion=friedman_mse, learning_rate=0.5, loss=deviance, max_depth=None, n_estimators=200, score=0.9407894736842105, total=   0.0s\n",
      "[CV] criterion=friedman_mse, learning_rate=0.5, loss=deviance, max_depth=None, n_estimators=200 \n",
      "[CV]  criterion=friedman_mse, learning_rate=0.5, loss=deviance, max_depth=None, n_estimators=200, score=0.9342105263157895, total=   0.0s\n",
      "[CV] criterion=friedman_mse, learning_rate=0.5, loss=deviance, max_depth=None, n_estimators=200 \n",
      "[CV]  criterion=friedman_mse, learning_rate=0.5, loss=deviance, max_depth=None, n_estimators=200, score=0.9403973509933775, total=   0.0s\n",
      "[CV] criterion=friedman_mse, learning_rate=0.5, loss=deviance, max_depth=None, n_estimators=1000 \n",
      "[CV]  criterion=friedman_mse, learning_rate=0.5, loss=deviance, max_depth=None, n_estimators=1000, score=0.9342105263157895, total=   0.2s\n",
      "[CV] criterion=friedman_mse, learning_rate=0.5, loss=deviance, max_depth=None, n_estimators=1000 \n",
      "[CV]  criterion=friedman_mse, learning_rate=0.5, loss=deviance, max_depth=None, n_estimators=1000, score=0.9342105263157895, total=   0.5s\n",
      "[CV] criterion=friedman_mse, learning_rate=0.5, loss=deviance, max_depth=None, n_estimators=1000 \n",
      "[CV]  criterion=friedman_mse, learning_rate=0.5, loss=deviance, max_depth=None, n_estimators=1000, score=0.9403973509933775, total=   0.2s\n",
      "[CV] criterion=friedman_mse, learning_rate=0.5, loss=deviance, max_depth=100, n_estimators=100 \n",
      "[CV]  criterion=friedman_mse, learning_rate=0.5, loss=deviance, max_depth=100, n_estimators=100, score=0.9407894736842105, total=   0.0s\n",
      "[CV] criterion=friedman_mse, learning_rate=0.5, loss=deviance, max_depth=100, n_estimators=100 \n",
      "[CV]  criterion=friedman_mse, learning_rate=0.5, loss=deviance, max_depth=100, n_estimators=100, score=0.9473684210526315, total=   0.0s\n",
      "[CV] criterion=friedman_mse, learning_rate=0.5, loss=deviance, max_depth=100, n_estimators=100 \n",
      "[CV]  criterion=friedman_mse, learning_rate=0.5, loss=deviance, max_depth=100, n_estimators=100, score=0.9403973509933775, total=   0.0s\n",
      "[CV] criterion=friedman_mse, learning_rate=0.5, loss=deviance, max_depth=100, n_estimators=200 \n",
      "[CV]  criterion=friedman_mse, learning_rate=0.5, loss=deviance, max_depth=100, n_estimators=200, score=0.9473684210526315, total=   0.0s\n",
      "[CV] criterion=friedman_mse, learning_rate=0.5, loss=deviance, max_depth=100, n_estimators=200 \n",
      "[CV]  criterion=friedman_mse, learning_rate=0.5, loss=deviance, max_depth=100, n_estimators=200, score=0.9342105263157895, total=   0.0s\n",
      "[CV] criterion=friedman_mse, learning_rate=0.5, loss=deviance, max_depth=100, n_estimators=200 \n",
      "[CV]  criterion=friedman_mse, learning_rate=0.5, loss=deviance, max_depth=100, n_estimators=200, score=0.9403973509933775, total=   0.0s\n",
      "[CV] criterion=friedman_mse, learning_rate=0.5, loss=deviance, max_depth=100, n_estimators=1000 \n",
      "[CV]  criterion=friedman_mse, learning_rate=0.5, loss=deviance, max_depth=100, n_estimators=1000, score=0.9342105263157895, total=   0.3s\n",
      "[CV] criterion=friedman_mse, learning_rate=0.5, loss=deviance, max_depth=100, n_estimators=1000 \n",
      "[CV]  criterion=friedman_mse, learning_rate=0.5, loss=deviance, max_depth=100, n_estimators=1000, score=0.9407894736842105, total=   0.4s\n",
      "[CV] criterion=friedman_mse, learning_rate=0.5, loss=deviance, max_depth=100, n_estimators=1000 \n",
      "[CV]  criterion=friedman_mse, learning_rate=0.5, loss=deviance, max_depth=100, n_estimators=1000, score=0.9470198675496688, total=   0.4s\n",
      "[CV] criterion=friedman_mse, learning_rate=0.8, loss=deviance, max_depth=None, n_estimators=100 \n",
      "[CV]  criterion=friedman_mse, learning_rate=0.8, loss=deviance, max_depth=None, n_estimators=100, score=0.9342105263157895, total=   0.0s\n",
      "[CV] criterion=friedman_mse, learning_rate=0.8, loss=deviance, max_depth=None, n_estimators=100 \n",
      "[CV]  criterion=friedman_mse, learning_rate=0.8, loss=deviance, max_depth=None, n_estimators=100, score=0.9210526315789473, total=   0.0s\n",
      "[CV] criterion=friedman_mse, learning_rate=0.8, loss=deviance, max_depth=None, n_estimators=100 \n"
     ]
    },
    {
     "name": "stdout",
     "output_type": "stream",
     "text": [
      "[CV]  criterion=friedman_mse, learning_rate=0.8, loss=deviance, max_depth=None, n_estimators=100, score=0.9403973509933775, total=   0.0s\n",
      "[CV] criterion=friedman_mse, learning_rate=0.8, loss=deviance, max_depth=None, n_estimators=200 \n",
      "[CV]  criterion=friedman_mse, learning_rate=0.8, loss=deviance, max_depth=None, n_estimators=200, score=0.9407894736842105, total=   0.0s\n",
      "[CV] criterion=friedman_mse, learning_rate=0.8, loss=deviance, max_depth=None, n_estimators=200 \n",
      "[CV]  criterion=friedman_mse, learning_rate=0.8, loss=deviance, max_depth=None, n_estimators=200, score=0.9342105263157895, total=   0.0s\n",
      "[CV] criterion=friedman_mse, learning_rate=0.8, loss=deviance, max_depth=None, n_estimators=200 \n",
      "[CV]  criterion=friedman_mse, learning_rate=0.8, loss=deviance, max_depth=None, n_estimators=200, score=0.9337748344370861, total=   0.0s\n",
      "[CV] criterion=friedman_mse, learning_rate=0.8, loss=deviance, max_depth=None, n_estimators=1000 \n",
      "[CV]  criterion=friedman_mse, learning_rate=0.8, loss=deviance, max_depth=None, n_estimators=1000, score=0.9407894736842105, total=   0.2s\n",
      "[CV] criterion=friedman_mse, learning_rate=0.8, loss=deviance, max_depth=None, n_estimators=1000 \n",
      "[CV]  criterion=friedman_mse, learning_rate=0.8, loss=deviance, max_depth=None, n_estimators=1000, score=0.9407894736842105, total=   0.3s\n",
      "[CV] criterion=friedman_mse, learning_rate=0.8, loss=deviance, max_depth=None, n_estimators=1000 \n",
      "[CV]  criterion=friedman_mse, learning_rate=0.8, loss=deviance, max_depth=None, n_estimators=1000, score=0.9337748344370861, total=   0.1s\n",
      "[CV] criterion=friedman_mse, learning_rate=0.8, loss=deviance, max_depth=100, n_estimators=100 \n",
      "[CV]  criterion=friedman_mse, learning_rate=0.8, loss=deviance, max_depth=100, n_estimators=100, score=0.9276315789473685, total=   0.0s\n",
      "[CV] criterion=friedman_mse, learning_rate=0.8, loss=deviance, max_depth=100, n_estimators=100 \n",
      "[CV]  criterion=friedman_mse, learning_rate=0.8, loss=deviance, max_depth=100, n_estimators=100, score=0.9342105263157895, total=   0.0s\n",
      "[CV] criterion=friedman_mse, learning_rate=0.8, loss=deviance, max_depth=100, n_estimators=100 \n",
      "[CV]  criterion=friedman_mse, learning_rate=0.8, loss=deviance, max_depth=100, n_estimators=100, score=0.9337748344370861, total=   0.0s\n",
      "[CV] criterion=friedman_mse, learning_rate=0.8, loss=deviance, max_depth=100, n_estimators=200 \n",
      "[CV]  criterion=friedman_mse, learning_rate=0.8, loss=deviance, max_depth=100, n_estimators=200, score=0.9407894736842105, total=   0.0s\n",
      "[CV] criterion=friedman_mse, learning_rate=0.8, loss=deviance, max_depth=100, n_estimators=200 \n",
      "[CV]  criterion=friedman_mse, learning_rate=0.8, loss=deviance, max_depth=100, n_estimators=200, score=0.9342105263157895, total=   0.0s\n",
      "[CV] criterion=friedman_mse, learning_rate=0.8, loss=deviance, max_depth=100, n_estimators=200 \n",
      "[CV]  criterion=friedman_mse, learning_rate=0.8, loss=deviance, max_depth=100, n_estimators=200, score=0.9403973509933775, total=   0.0s\n",
      "[CV] criterion=friedman_mse, learning_rate=0.8, loss=deviance, max_depth=100, n_estimators=1000 \n",
      "[CV]  criterion=friedman_mse, learning_rate=0.8, loss=deviance, max_depth=100, n_estimators=1000, score=0.9342105263157895, total=   0.2s\n",
      "[CV] criterion=friedman_mse, learning_rate=0.8, loss=deviance, max_depth=100, n_estimators=1000 \n",
      "[CV]  criterion=friedman_mse, learning_rate=0.8, loss=deviance, max_depth=100, n_estimators=1000, score=0.9342105263157895, total=   0.1s\n",
      "[CV] criterion=friedman_mse, learning_rate=0.8, loss=deviance, max_depth=100, n_estimators=1000 \n",
      "[CV]  criterion=friedman_mse, learning_rate=0.8, loss=deviance, max_depth=100, n_estimators=1000, score=0.9337748344370861, total=   0.1s\n"
     ]
    },
    {
     "name": "stderr",
     "output_type": "stream",
     "text": [
      "[Parallel(n_jobs=1)]: Done  54 out of  54 | elapsed:    9.9s finished\n"
     ]
    },
    {
     "data": {
      "text/plain": [
       "GridSearchCV(cv=None, error_score='raise',\n",
       "       estimator=GradientBoostingClassifier(criterion='friedman_mse', init=None,\n",
       "              learning_rate=0.1, loss='deviance', max_depth=3,\n",
       "              max_features=None, max_leaf_nodes=None,\n",
       "              min_impurity_decrease=0.0, min_impurity_split=None,\n",
       "              min_samples_leaf=1, min_samples_split=2,\n",
       "              min_weight_fraction_leaf=0.0, n_estimators=100,\n",
       "              presort='auto', random_state=None, subsample=1.0, verbose=0,\n",
       "              warm_start=False),\n",
       "       fit_params=None, iid=True, n_jobs=1,\n",
       "       param_grid={'loss': ['deviance'], 'learning_rate': [0.1, 0.5, 0.8], 'n_estimators': [100, 200, 1000], 'criterion': ['friedman_mse'], 'max_depth': [None, 100]},\n",
       "       pre_dispatch='2*n_jobs', refit=True, return_train_score='warn',\n",
       "       scoring=None, verbose=5)"
      ]
     },
     "execution_count": 145,
     "metadata": {},
     "output_type": "execute_result"
    }
   ],
   "source": [
    "#### GBM model\n",
    "#model\n",
    "model = GradientBoostingClassifier()\n",
    "\n",
    "#grid search parmaters\n",
    "para =  {'loss':['deviance'], \n",
    "         'learning_rate':[0.1,0.5, 0.8],\n",
    "         'n_estimators':[100, 200, 1000],\n",
    "         'criterion':['friedman_mse'],\n",
    "         'max_depth':[None, 100]}\n",
    "\n",
    "#grid search\n",
    "grid_search = GridSearchCV(estimator=model,\n",
    "                            param_grid=para,\n",
    "                            scoring=None,\n",
    "                            fit_params=None,\n",
    "                            n_jobs=1, iid=True,\n",
    "                            refit=True,\n",
    "                            cv=None,\n",
    "                            verbose=5,\n",
    "                            pre_dispatch='2*n_jobs',\n",
    "                            error_score='raise',\n",
    "                            return_train_score='warn')\n",
    "\n",
    "\n",
    "#GridSearch fit\n",
    "grid_search.fit(X_train,y_train)\n",
    "\n"
   ]
  },
  {
   "cell_type": "code",
   "execution_count": 146,
   "metadata": {},
   "outputs": [
    {
     "name": "stdout",
     "output_type": "stream",
     "text": [
      "{'criterion': 'friedman_mse', 'learning_rate': 0.5, 'loss': 'deviance', 'max_depth': 100, 'n_estimators': 100}\n"
     ]
    }
   ],
   "source": [
    "#Best GridSearch Paramters\n",
    "print(grid_search.best_params_)\n",
    "\n",
    "#Best GridSearch estimator\n",
    "best_gridsearch1 = grid_search.best_estimator_\n",
    "\n",
    "#Fit model with best estimator\n",
    "#best_gridsearch.fit(X_train, y_test)"
   ]
  },
  {
   "cell_type": "code",
   "execution_count": 147,
   "metadata": {},
   "outputs": [
    {
     "name": "stdout",
     "output_type": "stream",
     "text": [
      "Fitting 3 folds for each of 54 candidates, totalling 162 fits\n",
      "[CV] booster=gbtree, gamma=0, learning_rate=0.1, max_depth=3, n_estimators=100, objective=binary:logistic \n",
      "[CV]  booster=gbtree, gamma=0, learning_rate=0.1, max_depth=3, n_estimators=100, objective=binary:logistic, score=0.9276315789473685, total=   0.0s\n",
      "[CV] booster=gbtree, gamma=0, learning_rate=0.1, max_depth=3, n_estimators=100, objective=binary:logistic \n"
     ]
    },
    {
     "name": "stderr",
     "output_type": "stream",
     "text": [
      "[Parallel(n_jobs=1)]: Done   1 out of   1 | elapsed:    0.0s remaining:    0.0s\n"
     ]
    },
    {
     "name": "stdout",
     "output_type": "stream",
     "text": [
      "[CV]  booster=gbtree, gamma=0, learning_rate=0.1, max_depth=3, n_estimators=100, objective=binary:logistic, score=0.9736842105263158, total=   0.0s\n",
      "[CV] booster=gbtree, gamma=0, learning_rate=0.1, max_depth=3, n_estimators=100, objective=binary:logistic \n"
     ]
    },
    {
     "name": "stderr",
     "output_type": "stream",
     "text": [
      "[Parallel(n_jobs=1)]: Done   2 out of   2 | elapsed:    0.0s remaining:    0.0s\n",
      "[Parallel(n_jobs=1)]: Done   3 out of   3 | elapsed:    0.1s remaining:    0.0s\n"
     ]
    },
    {
     "name": "stdout",
     "output_type": "stream",
     "text": [
      "[CV]  booster=gbtree, gamma=0, learning_rate=0.1, max_depth=3, n_estimators=100, objective=binary:logistic, score=0.9735099337748344, total=   0.0s\n",
      "[CV] booster=gbtree, gamma=0, learning_rate=0.1, max_depth=3, n_estimators=350, objective=binary:logistic \n",
      "[CV]  booster=gbtree, gamma=0, learning_rate=0.1, max_depth=3, n_estimators=350, objective=binary:logistic, score=0.9342105263157895, total=   0.7s\n",
      "[CV] booster=gbtree, gamma=0, learning_rate=0.1, max_depth=3, n_estimators=350, objective=binary:logistic \n",
      "[CV]  booster=gbtree, gamma=0, learning_rate=0.1, max_depth=3, n_estimators=350, objective=binary:logistic, score=0.9736842105263158, total=   0.0s\n",
      "[CV] booster=gbtree, gamma=0, learning_rate=0.1, max_depth=3, n_estimators=350, objective=binary:logistic \n"
     ]
    },
    {
     "name": "stderr",
     "output_type": "stream",
     "text": [
      "[Parallel(n_jobs=1)]: Done   4 out of   4 | elapsed:    0.9s remaining:    0.0s\n"
     ]
    },
    {
     "name": "stdout",
     "output_type": "stream",
     "text": [
      "[CV]  booster=gbtree, gamma=0, learning_rate=0.1, max_depth=3, n_estimators=350, objective=binary:logistic, score=0.9735099337748344, total=   0.0s\n",
      "[CV] booster=gbtree, gamma=0, learning_rate=0.1, max_depth=3, n_estimators=1000, objective=binary:logistic \n",
      "[CV]  booster=gbtree, gamma=0, learning_rate=0.1, max_depth=3, n_estimators=1000, objective=binary:logistic, score=0.9342105263157895, total=   0.2s\n",
      "[CV] booster=gbtree, gamma=0, learning_rate=0.1, max_depth=3, n_estimators=1000, objective=binary:logistic \n",
      "[CV]  booster=gbtree, gamma=0, learning_rate=0.1, max_depth=3, n_estimators=1000, objective=binary:logistic, score=0.9736842105263158, total=   0.2s\n",
      "[CV] booster=gbtree, gamma=0, learning_rate=0.1, max_depth=3, n_estimators=1000, objective=binary:logistic \n",
      "[CV]  booster=gbtree, gamma=0, learning_rate=0.1, max_depth=3, n_estimators=1000, objective=binary:logistic, score=0.9735099337748344, total=   0.2s\n",
      "[CV] booster=gbtree, gamma=0, learning_rate=0.1, max_depth=10, n_estimators=100, objective=binary:logistic \n",
      "[CV]  booster=gbtree, gamma=0, learning_rate=0.1, max_depth=10, n_estimators=100, objective=binary:logistic, score=0.9342105263157895, total=   0.0s\n",
      "[CV] booster=gbtree, gamma=0, learning_rate=0.1, max_depth=10, n_estimators=100, objective=binary:logistic \n",
      "[CV]  booster=gbtree, gamma=0, learning_rate=0.1, max_depth=10, n_estimators=100, objective=binary:logistic, score=0.9736842105263158, total=   0.0s\n",
      "[CV] booster=gbtree, gamma=0, learning_rate=0.1, max_depth=10, n_estimators=100, objective=binary:logistic \n",
      "[CV]  booster=gbtree, gamma=0, learning_rate=0.1, max_depth=10, n_estimators=100, objective=binary:logistic, score=0.9536423841059603, total=   0.0s\n",
      "[CV] booster=gbtree, gamma=0, learning_rate=0.1, max_depth=10, n_estimators=350, objective=binary:logistic \n",
      "[CV]  booster=gbtree, gamma=0, learning_rate=0.1, max_depth=10, n_estimators=350, objective=binary:logistic, score=0.9407894736842105, total=   0.0s\n",
      "[CV] booster=gbtree, gamma=0, learning_rate=0.1, max_depth=10, n_estimators=350, objective=binary:logistic \n",
      "[CV]  booster=gbtree, gamma=0, learning_rate=0.1, max_depth=10, n_estimators=350, objective=binary:logistic, score=0.9736842105263158, total=   0.0s\n",
      "[CV] booster=gbtree, gamma=0, learning_rate=0.1, max_depth=10, n_estimators=350, objective=binary:logistic \n",
      "[CV]  booster=gbtree, gamma=0, learning_rate=0.1, max_depth=10, n_estimators=350, objective=binary:logistic, score=0.9668874172185431, total=   0.1s\n",
      "[CV] booster=gbtree, gamma=0, learning_rate=0.1, max_depth=10, n_estimators=1000, objective=binary:logistic \n",
      "[CV]  booster=gbtree, gamma=0, learning_rate=0.1, max_depth=10, n_estimators=1000, objective=binary:logistic, score=0.9407894736842105, total=   0.3s\n",
      "[CV] booster=gbtree, gamma=0, learning_rate=0.1, max_depth=10, n_estimators=1000, objective=binary:logistic \n",
      "[CV]  booster=gbtree, gamma=0, learning_rate=0.1, max_depth=10, n_estimators=1000, objective=binary:logistic, score=0.9736842105263158, total=   0.2s\n",
      "[CV] booster=gbtree, gamma=0, learning_rate=0.1, max_depth=10, n_estimators=1000, objective=binary:logistic \n",
      "[CV]  booster=gbtree, gamma=0, learning_rate=0.1, max_depth=10, n_estimators=1000, objective=binary:logistic, score=0.9668874172185431, total=   0.3s\n",
      "[CV] booster=gbtree, gamma=0, learning_rate=0.1, max_depth=100, n_estimators=100, objective=binary:logistic \n",
      "[CV]  booster=gbtree, gamma=0, learning_rate=0.1, max_depth=100, n_estimators=100, objective=binary:logistic, score=0.9342105263157895, total=   0.0s\n",
      "[CV] booster=gbtree, gamma=0, learning_rate=0.1, max_depth=100, n_estimators=100, objective=binary:logistic \n",
      "[CV]  booster=gbtree, gamma=0, learning_rate=0.1, max_depth=100, n_estimators=100, objective=binary:logistic, score=0.9736842105263158, total=   0.0s\n",
      "[CV] booster=gbtree, gamma=0, learning_rate=0.1, max_depth=100, n_estimators=100, objective=binary:logistic \n",
      "[CV]  booster=gbtree, gamma=0, learning_rate=0.1, max_depth=100, n_estimators=100, objective=binary:logistic, score=0.9536423841059603, total=   0.0s\n",
      "[CV] booster=gbtree, gamma=0, learning_rate=0.1, max_depth=100, n_estimators=350, objective=binary:logistic \n",
      "[CV]  booster=gbtree, gamma=0, learning_rate=0.1, max_depth=100, n_estimators=350, objective=binary:logistic, score=0.9407894736842105, total=   0.0s\n",
      "[CV] booster=gbtree, gamma=0, learning_rate=0.1, max_depth=100, n_estimators=350, objective=binary:logistic \n",
      "[CV]  booster=gbtree, gamma=0, learning_rate=0.1, max_depth=100, n_estimators=350, objective=binary:logistic, score=0.9736842105263158, total=   0.0s\n",
      "[CV] booster=gbtree, gamma=0, learning_rate=0.1, max_depth=100, n_estimators=350, objective=binary:logistic \n",
      "[CV]  booster=gbtree, gamma=0, learning_rate=0.1, max_depth=100, n_estimators=350, objective=binary:logistic, score=0.9668874172185431, total=   0.0s\n",
      "[CV] booster=gbtree, gamma=0, learning_rate=0.1, max_depth=100, n_estimators=1000, objective=binary:logistic \n",
      "[CV]  booster=gbtree, gamma=0, learning_rate=0.1, max_depth=100, n_estimators=1000, objective=binary:logistic, score=0.9407894736842105, total=   0.3s\n",
      "[CV] booster=gbtree, gamma=0, learning_rate=0.1, max_depth=100, n_estimators=1000, objective=binary:logistic \n",
      "[CV]  booster=gbtree, gamma=0, learning_rate=0.1, max_depth=100, n_estimators=1000, objective=binary:logistic, score=0.9736842105263158, total=   0.1s\n",
      "[CV] booster=gbtree, gamma=0, learning_rate=0.1, max_depth=100, n_estimators=1000, objective=binary:logistic \n",
      "[CV]  booster=gbtree, gamma=0, learning_rate=0.1, max_depth=100, n_estimators=1000, objective=binary:logistic, score=0.9668874172185431, total=   0.2s\n",
      "[CV] booster=gbtree, gamma=0, learning_rate=0.5, max_depth=3, n_estimators=100, objective=binary:logistic \n",
      "[CV]  booster=gbtree, gamma=0, learning_rate=0.5, max_depth=3, n_estimators=100, objective=binary:logistic, score=0.9473684210526315, total=   0.0s\n",
      "[CV] booster=gbtree, gamma=0, learning_rate=0.5, max_depth=3, n_estimators=100, objective=binary:logistic \n",
      "[CV]  booster=gbtree, gamma=0, learning_rate=0.5, max_depth=3, n_estimators=100, objective=binary:logistic, score=0.9802631578947368, total=   0.0s\n",
      "[CV] booster=gbtree, gamma=0, learning_rate=0.5, max_depth=3, n_estimators=100, objective=binary:logistic \n",
      "[CV]  booster=gbtree, gamma=0, learning_rate=0.5, max_depth=3, n_estimators=100, objective=binary:logistic, score=0.9668874172185431, total=   0.0s\n",
      "[CV] booster=gbtree, gamma=0, learning_rate=0.5, max_depth=3, n_estimators=350, objective=binary:logistic \n",
      "[CV]  booster=gbtree, gamma=0, learning_rate=0.5, max_depth=3, n_estimators=350, objective=binary:logistic, score=0.9473684210526315, total=   0.0s\n",
      "[CV] booster=gbtree, gamma=0, learning_rate=0.5, max_depth=3, n_estimators=350, objective=binary:logistic \n",
      "[CV]  booster=gbtree, gamma=0, learning_rate=0.5, max_depth=3, n_estimators=350, objective=binary:logistic, score=0.9802631578947368, total=   0.0s\n",
      "[CV] booster=gbtree, gamma=0, learning_rate=0.5, max_depth=3, n_estimators=350, objective=binary:logistic \n",
      "[CV]  booster=gbtree, gamma=0, learning_rate=0.5, max_depth=3, n_estimators=350, objective=binary:logistic, score=0.9668874172185431, total=   0.0s\n",
      "[CV] booster=gbtree, gamma=0, learning_rate=0.5, max_depth=3, n_estimators=1000, objective=binary:logistic \n",
      "[CV]  booster=gbtree, gamma=0, learning_rate=0.5, max_depth=3, n_estimators=1000, objective=binary:logistic, score=0.9473684210526315, total=   0.5s\n",
      "[CV] booster=gbtree, gamma=0, learning_rate=0.5, max_depth=3, n_estimators=1000, objective=binary:logistic \n",
      "[CV]  booster=gbtree, gamma=0, learning_rate=0.5, max_depth=3, n_estimators=1000, objective=binary:logistic, score=0.9802631578947368, total=   0.1s\n",
      "[CV] booster=gbtree, gamma=0, learning_rate=0.5, max_depth=3, n_estimators=1000, objective=binary:logistic \n",
      "[CV]  booster=gbtree, gamma=0, learning_rate=0.5, max_depth=3, n_estimators=1000, objective=binary:logistic, score=0.9668874172185431, total=   0.1s\n",
      "[CV] booster=gbtree, gamma=0, learning_rate=0.5, max_depth=10, n_estimators=100, objective=binary:logistic \n",
      "[CV]  booster=gbtree, gamma=0, learning_rate=0.5, max_depth=10, n_estimators=100, objective=binary:logistic, score=0.9539473684210527, total=   0.0s\n",
      "[CV] booster=gbtree, gamma=0, learning_rate=0.5, max_depth=10, n_estimators=100, objective=binary:logistic \n",
      "[CV]  booster=gbtree, gamma=0, learning_rate=0.5, max_depth=10, n_estimators=100, objective=binary:logistic, score=0.9736842105263158, total=   0.0s\n",
      "[CV] booster=gbtree, gamma=0, learning_rate=0.5, max_depth=10, n_estimators=100, objective=binary:logistic \n",
      "[CV]  booster=gbtree, gamma=0, learning_rate=0.5, max_depth=10, n_estimators=100, objective=binary:logistic, score=0.9602649006622517, total=   0.0s\n",
      "[CV] booster=gbtree, gamma=0, learning_rate=0.5, max_depth=10, n_estimators=350, objective=binary:logistic \n",
      "[CV]  booster=gbtree, gamma=0, learning_rate=0.5, max_depth=10, n_estimators=350, objective=binary:logistic, score=0.9539473684210527, total=   0.0s\n",
      "[CV] booster=gbtree, gamma=0, learning_rate=0.5, max_depth=10, n_estimators=350, objective=binary:logistic \n"
     ]
    },
    {
     "name": "stdout",
     "output_type": "stream",
     "text": [
      "[CV]  booster=gbtree, gamma=0, learning_rate=0.5, max_depth=10, n_estimators=350, objective=binary:logistic, score=0.9736842105263158, total=   0.0s\n",
      "[CV] booster=gbtree, gamma=0, learning_rate=0.5, max_depth=10, n_estimators=350, objective=binary:logistic \n",
      "[CV]  booster=gbtree, gamma=0, learning_rate=0.5, max_depth=10, n_estimators=350, objective=binary:logistic, score=0.9602649006622517, total=   0.1s\n",
      "[CV] booster=gbtree, gamma=0, learning_rate=0.5, max_depth=10, n_estimators=1000, objective=binary:logistic \n",
      "[CV]  booster=gbtree, gamma=0, learning_rate=0.5, max_depth=10, n_estimators=1000, objective=binary:logistic, score=0.9539473684210527, total=   0.2s\n",
      "[CV] booster=gbtree, gamma=0, learning_rate=0.5, max_depth=10, n_estimators=1000, objective=binary:logistic \n",
      "[CV]  booster=gbtree, gamma=0, learning_rate=0.5, max_depth=10, n_estimators=1000, objective=binary:logistic, score=0.9736842105263158, total=   0.1s\n",
      "[CV] booster=gbtree, gamma=0, learning_rate=0.5, max_depth=10, n_estimators=1000, objective=binary:logistic \n",
      "[CV]  booster=gbtree, gamma=0, learning_rate=0.5, max_depth=10, n_estimators=1000, objective=binary:logistic, score=0.9602649006622517, total=   0.2s\n",
      "[CV] booster=gbtree, gamma=0, learning_rate=0.5, max_depth=100, n_estimators=100, objective=binary:logistic \n",
      "[CV]  booster=gbtree, gamma=0, learning_rate=0.5, max_depth=100, n_estimators=100, objective=binary:logistic, score=0.9539473684210527, total=   0.0s\n",
      "[CV] booster=gbtree, gamma=0, learning_rate=0.5, max_depth=100, n_estimators=100, objective=binary:logistic \n",
      "[CV]  booster=gbtree, gamma=0, learning_rate=0.5, max_depth=100, n_estimators=100, objective=binary:logistic, score=0.9736842105263158, total=   0.0s\n",
      "[CV] booster=gbtree, gamma=0, learning_rate=0.5, max_depth=100, n_estimators=100, objective=binary:logistic \n",
      "[CV]  booster=gbtree, gamma=0, learning_rate=0.5, max_depth=100, n_estimators=100, objective=binary:logistic, score=0.9602649006622517, total=   0.0s\n",
      "[CV] booster=gbtree, gamma=0, learning_rate=0.5, max_depth=100, n_estimators=350, objective=binary:logistic \n",
      "[CV]  booster=gbtree, gamma=0, learning_rate=0.5, max_depth=100, n_estimators=350, objective=binary:logistic, score=0.9539473684210527, total=   0.0s\n",
      "[CV] booster=gbtree, gamma=0, learning_rate=0.5, max_depth=100, n_estimators=350, objective=binary:logistic \n",
      "[CV]  booster=gbtree, gamma=0, learning_rate=0.5, max_depth=100, n_estimators=350, objective=binary:logistic, score=0.9736842105263158, total=   0.0s\n",
      "[CV] booster=gbtree, gamma=0, learning_rate=0.5, max_depth=100, n_estimators=350, objective=binary:logistic \n",
      "[CV]  booster=gbtree, gamma=0, learning_rate=0.5, max_depth=100, n_estimators=350, objective=binary:logistic, score=0.9602649006622517, total=   0.0s\n",
      "[CV] booster=gbtree, gamma=0, learning_rate=0.5, max_depth=100, n_estimators=1000, objective=binary:logistic \n",
      "[CV]  booster=gbtree, gamma=0, learning_rate=0.5, max_depth=100, n_estimators=1000, objective=binary:logistic, score=0.9539473684210527, total=   0.2s\n",
      "[CV] booster=gbtree, gamma=0, learning_rate=0.5, max_depth=100, n_estimators=1000, objective=binary:logistic \n",
      "[CV]  booster=gbtree, gamma=0, learning_rate=0.5, max_depth=100, n_estimators=1000, objective=binary:logistic, score=0.9736842105263158, total=   0.1s\n",
      "[CV] booster=gbtree, gamma=0, learning_rate=0.5, max_depth=100, n_estimators=1000, objective=binary:logistic \n",
      "[CV]  booster=gbtree, gamma=0, learning_rate=0.5, max_depth=100, n_estimators=1000, objective=binary:logistic, score=0.9602649006622517, total=   0.1s\n",
      "[CV] booster=gbtree, gamma=0.5, learning_rate=0.1, max_depth=3, n_estimators=100, objective=binary:logistic \n",
      "[CV]  booster=gbtree, gamma=0.5, learning_rate=0.1, max_depth=3, n_estimators=100, objective=binary:logistic, score=0.9210526315789473, total=   0.0s\n",
      "[CV] booster=gbtree, gamma=0.5, learning_rate=0.1, max_depth=3, n_estimators=100, objective=binary:logistic \n",
      "[CV]  booster=gbtree, gamma=0.5, learning_rate=0.1, max_depth=3, n_estimators=100, objective=binary:logistic, score=0.9736842105263158, total=   0.0s\n",
      "[CV] booster=gbtree, gamma=0.5, learning_rate=0.1, max_depth=3, n_estimators=100, objective=binary:logistic \n",
      "[CV]  booster=gbtree, gamma=0.5, learning_rate=0.1, max_depth=3, n_estimators=100, objective=binary:logistic, score=0.9602649006622517, total=   0.0s\n",
      "[CV] booster=gbtree, gamma=0.5, learning_rate=0.1, max_depth=3, n_estimators=350, objective=binary:logistic \n",
      "[CV]  booster=gbtree, gamma=0.5, learning_rate=0.1, max_depth=3, n_estimators=350, objective=binary:logistic, score=0.9210526315789473, total=   0.1s\n",
      "[CV] booster=gbtree, gamma=0.5, learning_rate=0.1, max_depth=3, n_estimators=350, objective=binary:logistic \n",
      "[CV]  booster=gbtree, gamma=0.5, learning_rate=0.1, max_depth=3, n_estimators=350, objective=binary:logistic, score=0.9736842105263158, total=   0.1s\n",
      "[CV] booster=gbtree, gamma=0.5, learning_rate=0.1, max_depth=3, n_estimators=350, objective=binary:logistic \n",
      "[CV]  booster=gbtree, gamma=0.5, learning_rate=0.1, max_depth=3, n_estimators=350, objective=binary:logistic, score=0.9602649006622517, total=   0.1s\n",
      "[CV] booster=gbtree, gamma=0.5, learning_rate=0.1, max_depth=3, n_estimators=1000, objective=binary:logistic \n",
      "[CV]  booster=gbtree, gamma=0.5, learning_rate=0.1, max_depth=3, n_estimators=1000, objective=binary:logistic, score=0.9210526315789473, total=   0.4s\n",
      "[CV] booster=gbtree, gamma=0.5, learning_rate=0.1, max_depth=3, n_estimators=1000, objective=binary:logistic \n",
      "[CV]  booster=gbtree, gamma=0.5, learning_rate=0.1, max_depth=3, n_estimators=1000, objective=binary:logistic, score=0.9736842105263158, total=   0.3s\n",
      "[CV] booster=gbtree, gamma=0.5, learning_rate=0.1, max_depth=3, n_estimators=1000, objective=binary:logistic \n",
      "[CV]  booster=gbtree, gamma=0.5, learning_rate=0.1, max_depth=3, n_estimators=1000, objective=binary:logistic, score=0.9602649006622517, total=   0.3s\n",
      "[CV] booster=gbtree, gamma=0.5, learning_rate=0.1, max_depth=10, n_estimators=100, objective=binary:logistic \n",
      "[CV]  booster=gbtree, gamma=0.5, learning_rate=0.1, max_depth=10, n_estimators=100, objective=binary:logistic, score=0.9276315789473685, total=   0.0s\n",
      "[CV] booster=gbtree, gamma=0.5, learning_rate=0.1, max_depth=10, n_estimators=100, objective=binary:logistic \n",
      "[CV]  booster=gbtree, gamma=0.5, learning_rate=0.1, max_depth=10, n_estimators=100, objective=binary:logistic, score=0.9671052631578947, total=   0.0s\n",
      "[CV] booster=gbtree, gamma=0.5, learning_rate=0.1, max_depth=10, n_estimators=100, objective=binary:logistic \n",
      "[CV]  booster=gbtree, gamma=0.5, learning_rate=0.1, max_depth=10, n_estimators=100, objective=binary:logistic, score=0.9536423841059603, total=   0.0s\n",
      "[CV] booster=gbtree, gamma=0.5, learning_rate=0.1, max_depth=10, n_estimators=350, objective=binary:logistic \n",
      "[CV]  booster=gbtree, gamma=0.5, learning_rate=0.1, max_depth=10, n_estimators=350, objective=binary:logistic, score=0.9276315789473685, total=   1.2s\n",
      "[CV] booster=gbtree, gamma=0.5, learning_rate=0.1, max_depth=10, n_estimators=350, objective=binary:logistic \n",
      "[CV]  booster=gbtree, gamma=0.5, learning_rate=0.1, max_depth=10, n_estimators=350, objective=binary:logistic, score=0.9671052631578947, total=   0.4s\n",
      "[CV] booster=gbtree, gamma=0.5, learning_rate=0.1, max_depth=10, n_estimators=350, objective=binary:logistic \n",
      "[CV]  booster=gbtree, gamma=0.5, learning_rate=0.1, max_depth=10, n_estimators=350, objective=binary:logistic, score=0.9536423841059603, total=   0.1s\n",
      "[CV] booster=gbtree, gamma=0.5, learning_rate=0.1, max_depth=10, n_estimators=1000, objective=binary:logistic \n",
      "[CV]  booster=gbtree, gamma=0.5, learning_rate=0.1, max_depth=10, n_estimators=1000, objective=binary:logistic, score=0.9276315789473685, total=   0.4s\n",
      "[CV] booster=gbtree, gamma=0.5, learning_rate=0.1, max_depth=10, n_estimators=1000, objective=binary:logistic \n",
      "[CV]  booster=gbtree, gamma=0.5, learning_rate=0.1, max_depth=10, n_estimators=1000, objective=binary:logistic, score=0.9671052631578947, total=   0.4s\n",
      "[CV] booster=gbtree, gamma=0.5, learning_rate=0.1, max_depth=10, n_estimators=1000, objective=binary:logistic \n",
      "[CV]  booster=gbtree, gamma=0.5, learning_rate=0.1, max_depth=10, n_estimators=1000, objective=binary:logistic, score=0.9536423841059603, total=   0.8s\n",
      "[CV] booster=gbtree, gamma=0.5, learning_rate=0.1, max_depth=100, n_estimators=100, objective=binary:logistic \n",
      "[CV]  booster=gbtree, gamma=0.5, learning_rate=0.1, max_depth=100, n_estimators=100, objective=binary:logistic, score=0.9276315789473685, total=   0.0s\n",
      "[CV] booster=gbtree, gamma=0.5, learning_rate=0.1, max_depth=100, n_estimators=100, objective=binary:logistic \n",
      "[CV]  booster=gbtree, gamma=0.5, learning_rate=0.1, max_depth=100, n_estimators=100, objective=binary:logistic, score=0.9671052631578947, total=   0.0s\n",
      "[CV] booster=gbtree, gamma=0.5, learning_rate=0.1, max_depth=100, n_estimators=100, objective=binary:logistic \n",
      "[CV]  booster=gbtree, gamma=0.5, learning_rate=0.1, max_depth=100, n_estimators=100, objective=binary:logistic, score=0.9536423841059603, total=   0.0s\n",
      "[CV] booster=gbtree, gamma=0.5, learning_rate=0.1, max_depth=100, n_estimators=350, objective=binary:logistic \n"
     ]
    },
    {
     "name": "stdout",
     "output_type": "stream",
     "text": [
      "[CV]  booster=gbtree, gamma=0.5, learning_rate=0.1, max_depth=100, n_estimators=350, objective=binary:logistic, score=0.9276315789473685, total=   0.1s\n",
      "[CV] booster=gbtree, gamma=0.5, learning_rate=0.1, max_depth=100, n_estimators=350, objective=binary:logistic \n",
      "[CV]  booster=gbtree, gamma=0.5, learning_rate=0.1, max_depth=100, n_estimators=350, objective=binary:logistic, score=0.9671052631578947, total=   0.1s\n",
      "[CV] booster=gbtree, gamma=0.5, learning_rate=0.1, max_depth=100, n_estimators=350, objective=binary:logistic \n",
      "[CV]  booster=gbtree, gamma=0.5, learning_rate=0.1, max_depth=100, n_estimators=350, objective=binary:logistic, score=0.9536423841059603, total=   0.0s\n",
      "[CV] booster=gbtree, gamma=0.5, learning_rate=0.1, max_depth=100, n_estimators=1000, objective=binary:logistic \n",
      "[CV]  booster=gbtree, gamma=0.5, learning_rate=0.1, max_depth=100, n_estimators=1000, objective=binary:logistic, score=0.9276315789473685, total=   0.4s\n",
      "[CV] booster=gbtree, gamma=0.5, learning_rate=0.1, max_depth=100, n_estimators=1000, objective=binary:logistic \n",
      "[CV]  booster=gbtree, gamma=0.5, learning_rate=0.1, max_depth=100, n_estimators=1000, objective=binary:logistic, score=0.9671052631578947, total=   0.4s\n",
      "[CV] booster=gbtree, gamma=0.5, learning_rate=0.1, max_depth=100, n_estimators=1000, objective=binary:logistic \n",
      "[CV]  booster=gbtree, gamma=0.5, learning_rate=0.1, max_depth=100, n_estimators=1000, objective=binary:logistic, score=0.9536423841059603, total=   0.4s\n",
      "[CV] booster=gbtree, gamma=0.5, learning_rate=0.5, max_depth=3, n_estimators=100, objective=binary:logistic \n",
      "[CV]  booster=gbtree, gamma=0.5, learning_rate=0.5, max_depth=3, n_estimators=100, objective=binary:logistic, score=0.9539473684210527, total=   0.0s\n",
      "[CV] booster=gbtree, gamma=0.5, learning_rate=0.5, max_depth=3, n_estimators=100, objective=binary:logistic \n",
      "[CV]  booster=gbtree, gamma=0.5, learning_rate=0.5, max_depth=3, n_estimators=100, objective=binary:logistic, score=0.9736842105263158, total=   0.0s\n",
      "[CV] booster=gbtree, gamma=0.5, learning_rate=0.5, max_depth=3, n_estimators=100, objective=binary:logistic \n",
      "[CV]  booster=gbtree, gamma=0.5, learning_rate=0.5, max_depth=3, n_estimators=100, objective=binary:logistic, score=0.9470198675496688, total=   0.0s\n",
      "[CV] booster=gbtree, gamma=0.5, learning_rate=0.5, max_depth=3, n_estimators=350, objective=binary:logistic \n",
      "[CV]  booster=gbtree, gamma=0.5, learning_rate=0.5, max_depth=3, n_estimators=350, objective=binary:logistic, score=0.9539473684210527, total=   0.1s\n",
      "[CV] booster=gbtree, gamma=0.5, learning_rate=0.5, max_depth=3, n_estimators=350, objective=binary:logistic \n",
      "[CV]  booster=gbtree, gamma=0.5, learning_rate=0.5, max_depth=3, n_estimators=350, objective=binary:logistic, score=0.9736842105263158, total=   0.1s\n",
      "[CV] booster=gbtree, gamma=0.5, learning_rate=0.5, max_depth=3, n_estimators=350, objective=binary:logistic \n",
      "[CV]  booster=gbtree, gamma=0.5, learning_rate=0.5, max_depth=3, n_estimators=350, objective=binary:logistic, score=0.9470198675496688, total=   0.1s\n",
      "[CV] booster=gbtree, gamma=0.5, learning_rate=0.5, max_depth=3, n_estimators=1000, objective=binary:logistic \n",
      "[CV]  booster=gbtree, gamma=0.5, learning_rate=0.5, max_depth=3, n_estimators=1000, objective=binary:logistic, score=0.9539473684210527, total=   0.4s\n",
      "[CV] booster=gbtree, gamma=0.5, learning_rate=0.5, max_depth=3, n_estimators=1000, objective=binary:logistic \n",
      "[CV]  booster=gbtree, gamma=0.5, learning_rate=0.5, max_depth=3, n_estimators=1000, objective=binary:logistic, score=0.9736842105263158, total=   0.3s\n",
      "[CV] booster=gbtree, gamma=0.5, learning_rate=0.5, max_depth=3, n_estimators=1000, objective=binary:logistic \n",
      "[CV]  booster=gbtree, gamma=0.5, learning_rate=0.5, max_depth=3, n_estimators=1000, objective=binary:logistic, score=0.9470198675496688, total=   0.4s\n",
      "[CV] booster=gbtree, gamma=0.5, learning_rate=0.5, max_depth=10, n_estimators=100, objective=binary:logistic \n",
      "[CV]  booster=gbtree, gamma=0.5, learning_rate=0.5, max_depth=10, n_estimators=100, objective=binary:logistic, score=0.9539473684210527, total=   0.0s\n",
      "[CV] booster=gbtree, gamma=0.5, learning_rate=0.5, max_depth=10, n_estimators=100, objective=binary:logistic \n",
      "[CV]  booster=gbtree, gamma=0.5, learning_rate=0.5, max_depth=10, n_estimators=100, objective=binary:logistic, score=0.9605263157894737, total=   0.0s\n",
      "[CV] booster=gbtree, gamma=0.5, learning_rate=0.5, max_depth=10, n_estimators=100, objective=binary:logistic \n",
      "[CV]  booster=gbtree, gamma=0.5, learning_rate=0.5, max_depth=10, n_estimators=100, objective=binary:logistic, score=0.9536423841059603, total=   0.0s\n",
      "[CV] booster=gbtree, gamma=0.5, learning_rate=0.5, max_depth=10, n_estimators=350, objective=binary:logistic \n",
      "[CV]  booster=gbtree, gamma=0.5, learning_rate=0.5, max_depth=10, n_estimators=350, objective=binary:logistic, score=0.9539473684210527, total=   0.1s\n",
      "[CV] booster=gbtree, gamma=0.5, learning_rate=0.5, max_depth=10, n_estimators=350, objective=binary:logistic \n",
      "[CV]  booster=gbtree, gamma=0.5, learning_rate=0.5, max_depth=10, n_estimators=350, objective=binary:logistic, score=0.9605263157894737, total=   0.2s\n",
      "[CV] booster=gbtree, gamma=0.5, learning_rate=0.5, max_depth=10, n_estimators=350, objective=binary:logistic \n",
      "[CV]  booster=gbtree, gamma=0.5, learning_rate=0.5, max_depth=10, n_estimators=350, objective=binary:logistic, score=0.9536423841059603, total=   0.1s\n",
      "[CV] booster=gbtree, gamma=0.5, learning_rate=0.5, max_depth=10, n_estimators=1000, objective=binary:logistic \n",
      "[CV]  booster=gbtree, gamma=0.5, learning_rate=0.5, max_depth=10, n_estimators=1000, objective=binary:logistic, score=0.9539473684210527, total=   0.3s\n",
      "[CV] booster=gbtree, gamma=0.5, learning_rate=0.5, max_depth=10, n_estimators=1000, objective=binary:logistic \n",
      "[CV]  booster=gbtree, gamma=0.5, learning_rate=0.5, max_depth=10, n_estimators=1000, objective=binary:logistic, score=0.9605263157894737, total=   0.4s\n",
      "[CV] booster=gbtree, gamma=0.5, learning_rate=0.5, max_depth=10, n_estimators=1000, objective=binary:logistic \n",
      "[CV]  booster=gbtree, gamma=0.5, learning_rate=0.5, max_depth=10, n_estimators=1000, objective=binary:logistic, score=0.9536423841059603, total=   0.3s\n",
      "[CV] booster=gbtree, gamma=0.5, learning_rate=0.5, max_depth=100, n_estimators=100, objective=binary:logistic \n",
      "[CV]  booster=gbtree, gamma=0.5, learning_rate=0.5, max_depth=100, n_estimators=100, objective=binary:logistic, score=0.9539473684210527, total=   0.0s\n",
      "[CV] booster=gbtree, gamma=0.5, learning_rate=0.5, max_depth=100, n_estimators=100, objective=binary:logistic \n",
      "[CV]  booster=gbtree, gamma=0.5, learning_rate=0.5, max_depth=100, n_estimators=100, objective=binary:logistic, score=0.9605263157894737, total=   0.0s\n",
      "[CV] booster=gbtree, gamma=0.5, learning_rate=0.5, max_depth=100, n_estimators=100, objective=binary:logistic \n",
      "[CV]  booster=gbtree, gamma=0.5, learning_rate=0.5, max_depth=100, n_estimators=100, objective=binary:logistic, score=0.9536423841059603, total=   0.0s\n",
      "[CV] booster=gbtree, gamma=0.5, learning_rate=0.5, max_depth=100, n_estimators=350, objective=binary:logistic \n",
      "[CV]  booster=gbtree, gamma=0.5, learning_rate=0.5, max_depth=100, n_estimators=350, objective=binary:logistic, score=0.9539473684210527, total=   0.1s\n",
      "[CV] booster=gbtree, gamma=0.5, learning_rate=0.5, max_depth=100, n_estimators=350, objective=binary:logistic \n",
      "[CV]  booster=gbtree, gamma=0.5, learning_rate=0.5, max_depth=100, n_estimators=350, objective=binary:logistic, score=0.9605263157894737, total=   0.2s\n",
      "[CV] booster=gbtree, gamma=0.5, learning_rate=0.5, max_depth=100, n_estimators=350, objective=binary:logistic \n",
      "[CV]  booster=gbtree, gamma=0.5, learning_rate=0.5, max_depth=100, n_estimators=350, objective=binary:logistic, score=0.9536423841059603, total=   0.1s\n",
      "[CV] booster=gbtree, gamma=0.5, learning_rate=0.5, max_depth=100, n_estimators=1000, objective=binary:logistic \n",
      "[CV]  booster=gbtree, gamma=0.5, learning_rate=0.5, max_depth=100, n_estimators=1000, objective=binary:logistic, score=0.9539473684210527, total=   0.6s\n",
      "[CV] booster=gbtree, gamma=0.5, learning_rate=0.5, max_depth=100, n_estimators=1000, objective=binary:logistic \n",
      "[CV]  booster=gbtree, gamma=0.5, learning_rate=0.5, max_depth=100, n_estimators=1000, objective=binary:logistic, score=0.9605263157894737, total=   0.4s\n",
      "[CV] booster=gbtree, gamma=0.5, learning_rate=0.5, max_depth=100, n_estimators=1000, objective=binary:logistic \n"
     ]
    },
    {
     "name": "stdout",
     "output_type": "stream",
     "text": [
      "[CV]  booster=gbtree, gamma=0.5, learning_rate=0.5, max_depth=100, n_estimators=1000, objective=binary:logistic, score=0.9536423841059603, total=   0.4s\n",
      "[CV] booster=gbtree, gamma=1, learning_rate=0.1, max_depth=3, n_estimators=100, objective=binary:logistic \n",
      "[CV]  booster=gbtree, gamma=1, learning_rate=0.1, max_depth=3, n_estimators=100, objective=binary:logistic, score=0.9144736842105263, total=   0.0s\n",
      "[CV] booster=gbtree, gamma=1, learning_rate=0.1, max_depth=3, n_estimators=100, objective=binary:logistic \n",
      "[CV]  booster=gbtree, gamma=1, learning_rate=0.1, max_depth=3, n_estimators=100, objective=binary:logistic, score=0.9671052631578947, total=   0.0s\n",
      "[CV] booster=gbtree, gamma=1, learning_rate=0.1, max_depth=3, n_estimators=100, objective=binary:logistic \n",
      "[CV]  booster=gbtree, gamma=1, learning_rate=0.1, max_depth=3, n_estimators=100, objective=binary:logistic, score=0.9602649006622517, total=   0.0s\n",
      "[CV] booster=gbtree, gamma=1, learning_rate=0.1, max_depth=3, n_estimators=350, objective=binary:logistic \n",
      "[CV]  booster=gbtree, gamma=1, learning_rate=0.1, max_depth=3, n_estimators=350, objective=binary:logistic, score=0.9144736842105263, total=   0.1s\n",
      "[CV] booster=gbtree, gamma=1, learning_rate=0.1, max_depth=3, n_estimators=350, objective=binary:logistic \n",
      "[CV]  booster=gbtree, gamma=1, learning_rate=0.1, max_depth=3, n_estimators=350, objective=binary:logistic, score=0.9671052631578947, total=   0.2s\n",
      "[CV] booster=gbtree, gamma=1, learning_rate=0.1, max_depth=3, n_estimators=350, objective=binary:logistic \n",
      "[CV]  booster=gbtree, gamma=1, learning_rate=0.1, max_depth=3, n_estimators=350, objective=binary:logistic, score=0.9602649006622517, total=   0.1s\n",
      "[CV] booster=gbtree, gamma=1, learning_rate=0.1, max_depth=3, n_estimators=1000, objective=binary:logistic \n",
      "[CV]  booster=gbtree, gamma=1, learning_rate=0.1, max_depth=3, n_estimators=1000, objective=binary:logistic, score=0.9144736842105263, total=   0.9s\n",
      "[CV] booster=gbtree, gamma=1, learning_rate=0.1, max_depth=3, n_estimators=1000, objective=binary:logistic \n",
      "[CV]  booster=gbtree, gamma=1, learning_rate=0.1, max_depth=3, n_estimators=1000, objective=binary:logistic, score=0.9671052631578947, total=   0.6s\n",
      "[CV] booster=gbtree, gamma=1, learning_rate=0.1, max_depth=3, n_estimators=1000, objective=binary:logistic \n",
      "[CV]  booster=gbtree, gamma=1, learning_rate=0.1, max_depth=3, n_estimators=1000, objective=binary:logistic, score=0.9602649006622517, total=   0.5s\n",
      "[CV] booster=gbtree, gamma=1, learning_rate=0.1, max_depth=10, n_estimators=100, objective=binary:logistic \n",
      "[CV]  booster=gbtree, gamma=1, learning_rate=0.1, max_depth=10, n_estimators=100, objective=binary:logistic, score=0.9276315789473685, total=   0.0s\n",
      "[CV] booster=gbtree, gamma=1, learning_rate=0.1, max_depth=10, n_estimators=100, objective=binary:logistic \n",
      "[CV]  booster=gbtree, gamma=1, learning_rate=0.1, max_depth=10, n_estimators=100, objective=binary:logistic, score=0.9671052631578947, total=   0.0s\n",
      "[CV] booster=gbtree, gamma=1, learning_rate=0.1, max_depth=10, n_estimators=100, objective=binary:logistic \n",
      "[CV]  booster=gbtree, gamma=1, learning_rate=0.1, max_depth=10, n_estimators=100, objective=binary:logistic, score=0.9536423841059603, total=   0.0s\n",
      "[CV] booster=gbtree, gamma=1, learning_rate=0.1, max_depth=10, n_estimators=350, objective=binary:logistic \n",
      "[CV]  booster=gbtree, gamma=1, learning_rate=0.1, max_depth=10, n_estimators=350, objective=binary:logistic, score=0.9276315789473685, total=   0.2s\n",
      "[CV] booster=gbtree, gamma=1, learning_rate=0.1, max_depth=10, n_estimators=350, objective=binary:logistic \n",
      "[CV]  booster=gbtree, gamma=1, learning_rate=0.1, max_depth=10, n_estimators=350, objective=binary:logistic, score=0.9671052631578947, total=   0.9s\n",
      "[CV] booster=gbtree, gamma=1, learning_rate=0.1, max_depth=10, n_estimators=350, objective=binary:logistic \n",
      "[CV]  booster=gbtree, gamma=1, learning_rate=0.1, max_depth=10, n_estimators=350, objective=binary:logistic, score=0.9536423841059603, total=   0.1s\n",
      "[CV] booster=gbtree, gamma=1, learning_rate=0.1, max_depth=10, n_estimators=1000, objective=binary:logistic \n",
      "[CV]  booster=gbtree, gamma=1, learning_rate=0.1, max_depth=10, n_estimators=1000, objective=binary:logistic, score=0.9276315789473685, total=   0.7s\n",
      "[CV] booster=gbtree, gamma=1, learning_rate=0.1, max_depth=10, n_estimators=1000, objective=binary:logistic \n",
      "[CV]  booster=gbtree, gamma=1, learning_rate=0.1, max_depth=10, n_estimators=1000, objective=binary:logistic, score=0.9671052631578947, total=   0.4s\n",
      "[CV] booster=gbtree, gamma=1, learning_rate=0.1, max_depth=10, n_estimators=1000, objective=binary:logistic \n",
      "[CV]  booster=gbtree, gamma=1, learning_rate=0.1, max_depth=10, n_estimators=1000, objective=binary:logistic, score=0.9536423841059603, total=   1.0s\n",
      "[CV] booster=gbtree, gamma=1, learning_rate=0.1, max_depth=100, n_estimators=100, objective=binary:logistic \n",
      "[CV]  booster=gbtree, gamma=1, learning_rate=0.1, max_depth=100, n_estimators=100, objective=binary:logistic, score=0.9276315789473685, total=   0.0s\n",
      "[CV] booster=gbtree, gamma=1, learning_rate=0.1, max_depth=100, n_estimators=100, objective=binary:logistic \n",
      "[CV]  booster=gbtree, gamma=1, learning_rate=0.1, max_depth=100, n_estimators=100, objective=binary:logistic, score=0.9671052631578947, total=   0.0s\n",
      "[CV] booster=gbtree, gamma=1, learning_rate=0.1, max_depth=100, n_estimators=100, objective=binary:logistic \n",
      "[CV]  booster=gbtree, gamma=1, learning_rate=0.1, max_depth=100, n_estimators=100, objective=binary:logistic, score=0.9536423841059603, total=   0.0s\n",
      "[CV] booster=gbtree, gamma=1, learning_rate=0.1, max_depth=100, n_estimators=350, objective=binary:logistic \n",
      "[CV]  booster=gbtree, gamma=1, learning_rate=0.1, max_depth=100, n_estimators=350, objective=binary:logistic, score=0.9276315789473685, total=   0.2s\n",
      "[CV] booster=gbtree, gamma=1, learning_rate=0.1, max_depth=100, n_estimators=350, objective=binary:logistic \n",
      "[CV]  booster=gbtree, gamma=1, learning_rate=0.1, max_depth=100, n_estimators=350, objective=binary:logistic, score=0.9671052631578947, total=   0.2s\n",
      "[CV] booster=gbtree, gamma=1, learning_rate=0.1, max_depth=100, n_estimators=350, objective=binary:logistic \n",
      "[CV]  booster=gbtree, gamma=1, learning_rate=0.1, max_depth=100, n_estimators=350, objective=binary:logistic, score=0.9536423841059603, total=   0.1s\n",
      "[CV] booster=gbtree, gamma=1, learning_rate=0.1, max_depth=100, n_estimators=1000, objective=binary:logistic \n",
      "[CV]  booster=gbtree, gamma=1, learning_rate=0.1, max_depth=100, n_estimators=1000, objective=binary:logistic, score=0.9276315789473685, total=   0.9s\n",
      "[CV] booster=gbtree, gamma=1, learning_rate=0.1, max_depth=100, n_estimators=1000, objective=binary:logistic \n",
      "[CV]  booster=gbtree, gamma=1, learning_rate=0.1, max_depth=100, n_estimators=1000, objective=binary:logistic, score=0.9671052631578947, total=   0.8s\n",
      "[CV] booster=gbtree, gamma=1, learning_rate=0.1, max_depth=100, n_estimators=1000, objective=binary:logistic \n",
      "[CV]  booster=gbtree, gamma=1, learning_rate=0.1, max_depth=100, n_estimators=1000, objective=binary:logistic, score=0.9536423841059603, total=   0.5s\n",
      "[CV] booster=gbtree, gamma=1, learning_rate=0.5, max_depth=3, n_estimators=100, objective=binary:logistic \n",
      "[CV]  booster=gbtree, gamma=1, learning_rate=0.5, max_depth=3, n_estimators=100, objective=binary:logistic, score=0.9407894736842105, total=   0.0s\n",
      "[CV] booster=gbtree, gamma=1, learning_rate=0.5, max_depth=3, n_estimators=100, objective=binary:logistic \n",
      "[CV]  booster=gbtree, gamma=1, learning_rate=0.5, max_depth=3, n_estimators=100, objective=binary:logistic, score=0.9671052631578947, total=   0.0s\n",
      "[CV] booster=gbtree, gamma=1, learning_rate=0.5, max_depth=3, n_estimators=100, objective=binary:logistic \n",
      "[CV]  booster=gbtree, gamma=1, learning_rate=0.5, max_depth=3, n_estimators=100, objective=binary:logistic, score=0.9470198675496688, total=   0.0s\n",
      "[CV] booster=gbtree, gamma=1, learning_rate=0.5, max_depth=3, n_estimators=350, objective=binary:logistic \n",
      "[CV]  booster=gbtree, gamma=1, learning_rate=0.5, max_depth=3, n_estimators=350, objective=binary:logistic, score=0.9407894736842105, total=   0.0s\n",
      "[CV] booster=gbtree, gamma=1, learning_rate=0.5, max_depth=3, n_estimators=350, objective=binary:logistic \n",
      "[CV]  booster=gbtree, gamma=1, learning_rate=0.5, max_depth=3, n_estimators=350, objective=binary:logistic, score=0.9671052631578947, total=   0.0s\n",
      "[CV] booster=gbtree, gamma=1, learning_rate=0.5, max_depth=3, n_estimators=350, objective=binary:logistic \n"
     ]
    },
    {
     "name": "stdout",
     "output_type": "stream",
     "text": [
      "[CV]  booster=gbtree, gamma=1, learning_rate=0.5, max_depth=3, n_estimators=350, objective=binary:logistic, score=0.9470198675496688, total=   0.1s\n",
      "[CV] booster=gbtree, gamma=1, learning_rate=0.5, max_depth=3, n_estimators=1000, objective=binary:logistic \n",
      "[CV]  booster=gbtree, gamma=1, learning_rate=0.5, max_depth=3, n_estimators=1000, objective=binary:logistic, score=0.9407894736842105, total=   1.1s\n",
      "[CV] booster=gbtree, gamma=1, learning_rate=0.5, max_depth=3, n_estimators=1000, objective=binary:logistic \n",
      "[CV]  booster=gbtree, gamma=1, learning_rate=0.5, max_depth=3, n_estimators=1000, objective=binary:logistic, score=0.9671052631578947, total=   0.6s\n",
      "[CV] booster=gbtree, gamma=1, learning_rate=0.5, max_depth=3, n_estimators=1000, objective=binary:logistic \n",
      "[CV]  booster=gbtree, gamma=1, learning_rate=0.5, max_depth=3, n_estimators=1000, objective=binary:logistic, score=0.9470198675496688, total=   0.5s\n",
      "[CV] booster=gbtree, gamma=1, learning_rate=0.5, max_depth=10, n_estimators=100, objective=binary:logistic \n",
      "[CV]  booster=gbtree, gamma=1, learning_rate=0.5, max_depth=10, n_estimators=100, objective=binary:logistic, score=0.9539473684210527, total=   0.0s\n",
      "[CV] booster=gbtree, gamma=1, learning_rate=0.5, max_depth=10, n_estimators=100, objective=binary:logistic \n",
      "[CV]  booster=gbtree, gamma=1, learning_rate=0.5, max_depth=10, n_estimators=100, objective=binary:logistic, score=0.9605263157894737, total=   0.0s\n",
      "[CV] booster=gbtree, gamma=1, learning_rate=0.5, max_depth=10, n_estimators=100, objective=binary:logistic \n",
      "[CV]  booster=gbtree, gamma=1, learning_rate=0.5, max_depth=10, n_estimators=100, objective=binary:logistic, score=0.9470198675496688, total=   0.0s\n",
      "[CV] booster=gbtree, gamma=1, learning_rate=0.5, max_depth=10, n_estimators=350, objective=binary:logistic \n",
      "[CV]  booster=gbtree, gamma=1, learning_rate=0.5, max_depth=10, n_estimators=350, objective=binary:logistic, score=0.9539473684210527, total=   0.1s\n",
      "[CV] booster=gbtree, gamma=1, learning_rate=0.5, max_depth=10, n_estimators=350, objective=binary:logistic \n",
      "[CV]  booster=gbtree, gamma=1, learning_rate=0.5, max_depth=10, n_estimators=350, objective=binary:logistic, score=0.9605263157894737, total=   0.1s\n",
      "[CV] booster=gbtree, gamma=1, learning_rate=0.5, max_depth=10, n_estimators=350, objective=binary:logistic \n",
      "[CV]  booster=gbtree, gamma=1, learning_rate=0.5, max_depth=10, n_estimators=350, objective=binary:logistic, score=0.9470198675496688, total=   0.1s\n",
      "[CV] booster=gbtree, gamma=1, learning_rate=0.5, max_depth=10, n_estimators=1000, objective=binary:logistic \n",
      "[CV]  booster=gbtree, gamma=1, learning_rate=0.5, max_depth=10, n_estimators=1000, objective=binary:logistic, score=0.9539473684210527, total=   0.6s\n",
      "[CV] booster=gbtree, gamma=1, learning_rate=0.5, max_depth=10, n_estimators=1000, objective=binary:logistic \n",
      "[CV]  booster=gbtree, gamma=1, learning_rate=0.5, max_depth=10, n_estimators=1000, objective=binary:logistic, score=0.9605263157894737, total=   0.4s\n",
      "[CV] booster=gbtree, gamma=1, learning_rate=0.5, max_depth=10, n_estimators=1000, objective=binary:logistic \n",
      "[CV]  booster=gbtree, gamma=1, learning_rate=0.5, max_depth=10, n_estimators=1000, objective=binary:logistic, score=0.9470198675496688, total=   0.3s\n",
      "[CV] booster=gbtree, gamma=1, learning_rate=0.5, max_depth=100, n_estimators=100, objective=binary:logistic \n",
      "[CV]  booster=gbtree, gamma=1, learning_rate=0.5, max_depth=100, n_estimators=100, objective=binary:logistic, score=0.9539473684210527, total=   0.0s\n",
      "[CV] booster=gbtree, gamma=1, learning_rate=0.5, max_depth=100, n_estimators=100, objective=binary:logistic \n",
      "[CV]  booster=gbtree, gamma=1, learning_rate=0.5, max_depth=100, n_estimators=100, objective=binary:logistic, score=0.9605263157894737, total=   0.0s\n",
      "[CV] booster=gbtree, gamma=1, learning_rate=0.5, max_depth=100, n_estimators=100, objective=binary:logistic \n",
      "[CV]  booster=gbtree, gamma=1, learning_rate=0.5, max_depth=100, n_estimators=100, objective=binary:logistic, score=0.9470198675496688, total=   0.0s\n",
      "[CV] booster=gbtree, gamma=1, learning_rate=0.5, max_depth=100, n_estimators=350, objective=binary:logistic \n",
      "[CV]  booster=gbtree, gamma=1, learning_rate=0.5, max_depth=100, n_estimators=350, objective=binary:logistic, score=0.9539473684210527, total=   0.2s\n",
      "[CV] booster=gbtree, gamma=1, learning_rate=0.5, max_depth=100, n_estimators=350, objective=binary:logistic \n",
      "[CV]  booster=gbtree, gamma=1, learning_rate=0.5, max_depth=100, n_estimators=350, objective=binary:logistic, score=0.9605263157894737, total=   0.1s\n",
      "[CV] booster=gbtree, gamma=1, learning_rate=0.5, max_depth=100, n_estimators=350, objective=binary:logistic \n",
      "[CV]  booster=gbtree, gamma=1, learning_rate=0.5, max_depth=100, n_estimators=350, objective=binary:logistic, score=0.9470198675496688, total=   0.4s\n",
      "[CV] booster=gbtree, gamma=1, learning_rate=0.5, max_depth=100, n_estimators=1000, objective=binary:logistic \n",
      "[CV]  booster=gbtree, gamma=1, learning_rate=0.5, max_depth=100, n_estimators=1000, objective=binary:logistic, score=0.9539473684210527, total=   0.5s\n",
      "[CV] booster=gbtree, gamma=1, learning_rate=0.5, max_depth=100, n_estimators=1000, objective=binary:logistic \n",
      "[CV]  booster=gbtree, gamma=1, learning_rate=0.5, max_depth=100, n_estimators=1000, objective=binary:logistic, score=0.9605263157894737, total=   0.8s\n",
      "[CV] booster=gbtree, gamma=1, learning_rate=0.5, max_depth=100, n_estimators=1000, objective=binary:logistic \n",
      "[CV]  booster=gbtree, gamma=1, learning_rate=0.5, max_depth=100, n_estimators=1000, objective=binary:logistic, score=0.9470198675496688, total=   0.5s\n"
     ]
    },
    {
     "name": "stderr",
     "output_type": "stream",
     "text": [
      "[Parallel(n_jobs=1)]: Done 162 out of 162 | elapsed:   44.5s finished\n"
     ]
    },
    {
     "data": {
      "text/plain": [
       "GridSearchCV(cv=None, error_score='raise',\n",
       "       estimator=XGBClassifier(base_score=0.5, booster='gbtree', colsample_bylevel=1,\n",
       "       colsample_bytree=1, gamma=0, learning_rate=0.1, max_delta_step=0,\n",
       "       max_depth=3, min_child_weight=1, missing=None, n_estimators=100,\n",
       "       n_jobs=1, nthread=None, objective='binary:logistic', random_state=0,\n",
       "       reg_alpha=0, reg_lambda=1, scale_pos_weight=1, seed=None,\n",
       "       silent=True, subsample=1),\n",
       "       fit_params=None, iid=True, n_jobs=1,\n",
       "       param_grid={'max_depth': [3, 10, 100], 'learning_rate': [0.1, 0.5], 'n_estimators': [100, 350, 1000], 'objective': ['binary:logistic'], 'booster': ['gbtree'], 'gamma': [0, 0.5, 1]},\n",
       "       pre_dispatch='2*n_jobs', refit=True, return_train_score='warn',\n",
       "       scoring=None, verbose=5)"
      ]
     },
     "execution_count": 147,
     "metadata": {},
     "output_type": "execute_result"
    }
   ],
   "source": [
    "#### XGB model\n",
    "#model\n",
    "model = XGBClassifier()\n",
    "\n",
    "#grid search parmaters\n",
    "para = {'max_depth':[3,10,100],\n",
    "        'learning_rate':[0.1, 0.5], #= \"eta\"\n",
    "        'n_estimators':[100,350, 1000],\n",
    "        'objective':['binary:logistic'],  \n",
    "        'booster':['gbtree'],\n",
    "        'gamma':[0,0.5,1]}\n",
    "\n",
    "#grid search\n",
    "grid_search = GridSearchCV(estimator=model,\n",
    "                            param_grid=para,\n",
    "                            scoring=None,\n",
    "                            fit_params=None,\n",
    "                            n_jobs=1, iid=True,\n",
    "                            refit=True,\n",
    "                            cv=None,\n",
    "                            verbose=5,\n",
    "                            pre_dispatch='2*n_jobs',\n",
    "                            error_score='raise',\n",
    "                            return_train_score='warn')\n",
    "\n",
    "\n",
    "#GridSearch fit\n",
    "grid_search.fit(X_train,y_train)"
   ]
  },
  {
   "cell_type": "code",
   "execution_count": 148,
   "metadata": {},
   "outputs": [
    {
     "name": "stdout",
     "output_type": "stream",
     "text": [
      "{'booster': 'gbtree', 'gamma': 0, 'learning_rate': 0.5, 'max_depth': 3, 'n_estimators': 100, 'objective': 'binary:logistic'}\n"
     ]
    }
   ],
   "source": [
    "#Best GridSearch Paramters\n",
    "print(grid_search.best_params_)\n",
    "\n",
    "#Best GridSearch estimator\n",
    "best_gridsearch2 = grid_search.best_estimator_\n",
    "\n",
    "#Fit model with best estimator\n",
    "#best_gridsearch.fit(X_train, y_test)"
   ]
  },
  {
   "cell_type": "code",
   "execution_count": 149,
   "metadata": {},
   "outputs": [
    {
     "name": "stdout",
     "output_type": "stream",
     "text": [
      "Fitting 3 folds for each of 48 candidates, totalling 144 fits\n",
      "[CV] criterion=gini, max_depth=None, min_samples_leaf=1, min_samples_split=2, n_estimators=10 \n",
      "[CV]  criterion=gini, max_depth=None, min_samples_leaf=1, min_samples_split=2, n_estimators=10, score=0.9144736842105263, total=   0.0s\n",
      "[CV] criterion=gini, max_depth=None, min_samples_leaf=1, min_samples_split=2, n_estimators=10 \n",
      "[CV]  criterion=gini, max_depth=None, min_samples_leaf=1, min_samples_split=2, n_estimators=10, score=0.9671052631578947, total=   0.0s"
     ]
    },
    {
     "name": "stderr",
     "output_type": "stream",
     "text": [
      "[Parallel(n_jobs=1)]: Done   1 out of   1 | elapsed:    0.0s remaining:    0.0s\n",
      "[Parallel(n_jobs=1)]: Done   2 out of   2 | elapsed:    0.0s remaining:    0.0s\n"
     ]
    },
    {
     "name": "stdout",
     "output_type": "stream",
     "text": [
      "\n",
      "[CV] criterion=gini, max_depth=None, min_samples_leaf=1, min_samples_split=2, n_estimators=10 \n",
      "[CV]  criterion=gini, max_depth=None, min_samples_leaf=1, min_samples_split=2, n_estimators=10, score=0.9470198675496688, total=   0.0s\n",
      "[CV] criterion=gini, max_depth=None, min_samples_leaf=1, min_samples_split=2, n_estimators=20 \n"
     ]
    },
    {
     "name": "stderr",
     "output_type": "stream",
     "text": [
      "[Parallel(n_jobs=1)]: Done   3 out of   3 | elapsed:    0.1s remaining:    0.0s\n"
     ]
    },
    {
     "name": "stdout",
     "output_type": "stream",
     "text": [
      "[CV]  criterion=gini, max_depth=None, min_samples_leaf=1, min_samples_split=2, n_estimators=20, score=0.9210526315789473, total=   0.0s\n",
      "[CV] criterion=gini, max_depth=None, min_samples_leaf=1, min_samples_split=2, n_estimators=20 \n"
     ]
    },
    {
     "name": "stderr",
     "output_type": "stream",
     "text": [
      "[Parallel(n_jobs=1)]: Done   4 out of   4 | elapsed:    0.2s remaining:    0.0s\n"
     ]
    },
    {
     "name": "stdout",
     "output_type": "stream",
     "text": [
      "[CV]  criterion=gini, max_depth=None, min_samples_leaf=1, min_samples_split=2, n_estimators=20, score=0.9802631578947368, total=   0.0s\n",
      "[CV] criterion=gini, max_depth=None, min_samples_leaf=1, min_samples_split=2, n_estimators=20 \n",
      "[CV]  criterion=gini, max_depth=None, min_samples_leaf=1, min_samples_split=2, n_estimators=20, score=0.9735099337748344, total=   0.0s\n",
      "[CV] criterion=gini, max_depth=None, min_samples_leaf=1, min_samples_split=2, n_estimators=100 \n",
      "[CV]  criterion=gini, max_depth=None, min_samples_leaf=1, min_samples_split=2, n_estimators=100, score=0.9276315789473685, total=   0.3s\n",
      "[CV] criterion=gini, max_depth=None, min_samples_leaf=1, min_samples_split=2, n_estimators=100 \n",
      "[CV]  criterion=gini, max_depth=None, min_samples_leaf=1, min_samples_split=2, n_estimators=100, score=0.9671052631578947, total=   0.1s\n",
      "[CV] criterion=gini, max_depth=None, min_samples_leaf=1, min_samples_split=2, n_estimators=100 \n",
      "[CV]  criterion=gini, max_depth=None, min_samples_leaf=1, min_samples_split=2, n_estimators=100, score=0.9470198675496688, total=   0.2s\n",
      "[CV] criterion=gini, max_depth=None, min_samples_leaf=1, min_samples_split=2, n_estimators=1000 \n",
      "[CV]  criterion=gini, max_depth=None, min_samples_leaf=1, min_samples_split=2, n_estimators=1000, score=0.9342105263157895, total=   1.9s\n",
      "[CV] criterion=gini, max_depth=None, min_samples_leaf=1, min_samples_split=2, n_estimators=1000 \n",
      "[CV]  criterion=gini, max_depth=None, min_samples_leaf=1, min_samples_split=2, n_estimators=1000, score=0.9736842105263158, total=   1.5s\n",
      "[CV] criterion=gini, max_depth=None, min_samples_leaf=1, min_samples_split=2, n_estimators=1000 \n",
      "[CV]  criterion=gini, max_depth=None, min_samples_leaf=1, min_samples_split=2, n_estimators=1000, score=0.9337748344370861, total=   2.2s\n",
      "[CV] criterion=gini, max_depth=None, min_samples_leaf=1, min_samples_split=4, n_estimators=10 \n",
      "[CV]  criterion=gini, max_depth=None, min_samples_leaf=1, min_samples_split=4, n_estimators=10, score=0.9473684210526315, total=   0.0s\n",
      "[CV] criterion=gini, max_depth=None, min_samples_leaf=1, min_samples_split=4, n_estimators=10 \n",
      "[CV]  criterion=gini, max_depth=None, min_samples_leaf=1, min_samples_split=4, n_estimators=10, score=0.9671052631578947, total=   0.0s\n",
      "[CV] criterion=gini, max_depth=None, min_samples_leaf=1, min_samples_split=4, n_estimators=10 \n",
      "[CV]  criterion=gini, max_depth=None, min_samples_leaf=1, min_samples_split=4, n_estimators=10, score=0.9403973509933775, total=   0.0s\n",
      "[CV] criterion=gini, max_depth=None, min_samples_leaf=1, min_samples_split=4, n_estimators=20 \n",
      "[CV]  criterion=gini, max_depth=None, min_samples_leaf=1, min_samples_split=4, n_estimators=20, score=0.9276315789473685, total=   0.0s\n",
      "[CV] criterion=gini, max_depth=None, min_samples_leaf=1, min_samples_split=4, n_estimators=20 \n",
      "[CV]  criterion=gini, max_depth=None, min_samples_leaf=1, min_samples_split=4, n_estimators=20, score=0.9539473684210527, total=   0.0s\n",
      "[CV] criterion=gini, max_depth=None, min_samples_leaf=1, min_samples_split=4, n_estimators=20 \n",
      "[CV]  criterion=gini, max_depth=None, min_samples_leaf=1, min_samples_split=4, n_estimators=20, score=0.9271523178807947, total=   0.0s\n",
      "[CV] criterion=gini, max_depth=None, min_samples_leaf=1, min_samples_split=4, n_estimators=100 \n",
      "[CV]  criterion=gini, max_depth=None, min_samples_leaf=1, min_samples_split=4, n_estimators=100, score=0.9210526315789473, total=   0.1s\n",
      "[CV] criterion=gini, max_depth=None, min_samples_leaf=1, min_samples_split=4, n_estimators=100 \n",
      "[CV]  criterion=gini, max_depth=None, min_samples_leaf=1, min_samples_split=4, n_estimators=100, score=0.993421052631579, total=   0.1s\n",
      "[CV] criterion=gini, max_depth=None, min_samples_leaf=1, min_samples_split=4, n_estimators=100 \n",
      "[CV]  criterion=gini, max_depth=None, min_samples_leaf=1, min_samples_split=4, n_estimators=100, score=0.9403973509933775, total=   0.1s\n",
      "[CV] criterion=gini, max_depth=None, min_samples_leaf=1, min_samples_split=4, n_estimators=1000 \n",
      "[CV]  criterion=gini, max_depth=None, min_samples_leaf=1, min_samples_split=4, n_estimators=1000, score=0.9276315789473685, total=   1.5s\n",
      "[CV] criterion=gini, max_depth=None, min_samples_leaf=1, min_samples_split=4, n_estimators=1000 \n",
      "[CV]  criterion=gini, max_depth=None, min_samples_leaf=1, min_samples_split=4, n_estimators=1000, score=0.9802631578947368, total=   2.0s\n",
      "[CV] criterion=gini, max_depth=None, min_samples_leaf=1, min_samples_split=4, n_estimators=1000 \n",
      "[CV]  criterion=gini, max_depth=None, min_samples_leaf=1, min_samples_split=4, n_estimators=1000, score=0.9337748344370861, total=   1.1s\n",
      "[CV] criterion=gini, max_depth=None, min_samples_leaf=30, min_samples_split=2, n_estimators=10 \n",
      "[CV]  criterion=gini, max_depth=None, min_samples_leaf=30, min_samples_split=2, n_estimators=10, score=0.8947368421052632, total=   0.0s\n",
      "[CV] criterion=gini, max_depth=None, min_samples_leaf=30, min_samples_split=2, n_estimators=10 \n",
      "[CV]  criterion=gini, max_depth=None, min_samples_leaf=30, min_samples_split=2, n_estimators=10, score=0.9276315789473685, total=   0.0s\n",
      "[CV] criterion=gini, max_depth=None, min_samples_leaf=30, min_samples_split=2, n_estimators=10 \n",
      "[CV]  criterion=gini, max_depth=None, min_samples_leaf=30, min_samples_split=2, n_estimators=10, score=0.9403973509933775, total=   0.0s\n",
      "[CV] criterion=gini, max_depth=None, min_samples_leaf=30, min_samples_split=2, n_estimators=20 \n",
      "[CV]  criterion=gini, max_depth=None, min_samples_leaf=30, min_samples_split=2, n_estimators=20, score=0.8947368421052632, total=   0.0s\n",
      "[CV] criterion=gini, max_depth=None, min_samples_leaf=30, min_samples_split=2, n_estimators=20 \n",
      "[CV]  criterion=gini, max_depth=None, min_samples_leaf=30, min_samples_split=2, n_estimators=20, score=0.9407894736842105, total=   0.0s\n",
      "[CV] criterion=gini, max_depth=None, min_samples_leaf=30, min_samples_split=2, n_estimators=20 \n",
      "[CV]  criterion=gini, max_depth=None, min_samples_leaf=30, min_samples_split=2, n_estimators=20, score=0.9337748344370861, total=   0.0s\n",
      "[CV] criterion=gini, max_depth=None, min_samples_leaf=30, min_samples_split=2, n_estimators=100 \n",
      "[CV]  criterion=gini, max_depth=None, min_samples_leaf=30, min_samples_split=2, n_estimators=100, score=0.8947368421052632, total=   0.0s\n",
      "[CV] criterion=gini, max_depth=None, min_samples_leaf=30, min_samples_split=2, n_estimators=100 \n",
      "[CV]  criterion=gini, max_depth=None, min_samples_leaf=30, min_samples_split=2, n_estimators=100, score=0.9539473684210527, total=   0.0s\n",
      "[CV] criterion=gini, max_depth=None, min_samples_leaf=30, min_samples_split=2, n_estimators=100 \n",
      "[CV]  criterion=gini, max_depth=None, min_samples_leaf=30, min_samples_split=2, n_estimators=100, score=0.9403973509933775, total=   0.0s\n",
      "[CV] criterion=gini, max_depth=None, min_samples_leaf=30, min_samples_split=2, n_estimators=1000 \n",
      "[CV]  criterion=gini, max_depth=None, min_samples_leaf=30, min_samples_split=2, n_estimators=1000, score=0.8881578947368421, total=   1.5s\n",
      "[CV] criterion=gini, max_depth=None, min_samples_leaf=30, min_samples_split=2, n_estimators=1000 \n",
      "[CV]  criterion=gini, max_depth=None, min_samples_leaf=30, min_samples_split=2, n_estimators=1000, score=0.9539473684210527, total=   3.2s\n",
      "[CV] criterion=gini, max_depth=None, min_samples_leaf=30, min_samples_split=2, n_estimators=1000 \n",
      "[CV]  criterion=gini, max_depth=None, min_samples_leaf=30, min_samples_split=2, n_estimators=1000, score=0.9337748344370861, total=   1.8s\n",
      "[CV] criterion=gini, max_depth=None, min_samples_leaf=30, min_samples_split=4, n_estimators=10 \n",
      "[CV]  criterion=gini, max_depth=None, min_samples_leaf=30, min_samples_split=4, n_estimators=10, score=0.9078947368421053, total=   0.0s\n",
      "[CV] criterion=gini, max_depth=None, min_samples_leaf=30, min_samples_split=4, n_estimators=10 \n",
      "[CV]  criterion=gini, max_depth=None, min_samples_leaf=30, min_samples_split=4, n_estimators=10, score=0.9473684210526315, total=   0.0s\n",
      "[CV] criterion=gini, max_depth=None, min_samples_leaf=30, min_samples_split=4, n_estimators=10 \n",
      "[CV]  criterion=gini, max_depth=None, min_samples_leaf=30, min_samples_split=4, n_estimators=10, score=0.9271523178807947, total=   0.0s\n",
      "[CV] criterion=gini, max_depth=None, min_samples_leaf=30, min_samples_split=4, n_estimators=20 \n",
      "[CV]  criterion=gini, max_depth=None, min_samples_leaf=30, min_samples_split=4, n_estimators=20, score=0.9144736842105263, total=   0.0s\n",
      "[CV] criterion=gini, max_depth=None, min_samples_leaf=30, min_samples_split=4, n_estimators=20 \n",
      "[CV]  criterion=gini, max_depth=None, min_samples_leaf=30, min_samples_split=4, n_estimators=20, score=0.9473684210526315, total=   0.0s\n",
      "[CV] criterion=gini, max_depth=None, min_samples_leaf=30, min_samples_split=4, n_estimators=20 \n",
      "[CV]  criterion=gini, max_depth=None, min_samples_leaf=30, min_samples_split=4, n_estimators=20, score=0.9337748344370861, total=   0.0s\n",
      "[CV] criterion=gini, max_depth=None, min_samples_leaf=30, min_samples_split=4, n_estimators=100 \n"
     ]
    },
    {
     "name": "stdout",
     "output_type": "stream",
     "text": [
      "[CV]  criterion=gini, max_depth=None, min_samples_leaf=30, min_samples_split=4, n_estimators=100, score=0.9013157894736842, total=   0.0s\n",
      "[CV] criterion=gini, max_depth=None, min_samples_leaf=30, min_samples_split=4, n_estimators=100 \n",
      "[CV]  criterion=gini, max_depth=None, min_samples_leaf=30, min_samples_split=4, n_estimators=100, score=0.9473684210526315, total=   0.0s\n",
      "[CV] criterion=gini, max_depth=None, min_samples_leaf=30, min_samples_split=4, n_estimators=100 \n",
      "[CV]  criterion=gini, max_depth=None, min_samples_leaf=30, min_samples_split=4, n_estimators=100, score=0.9337748344370861, total=   0.0s\n",
      "[CV] criterion=gini, max_depth=None, min_samples_leaf=30, min_samples_split=4, n_estimators=1000 \n",
      "[CV]  criterion=gini, max_depth=None, min_samples_leaf=30, min_samples_split=4, n_estimators=1000, score=0.8947368421052632, total=   0.9s\n",
      "[CV] criterion=gini, max_depth=None, min_samples_leaf=30, min_samples_split=4, n_estimators=1000 \n",
      "[CV]  criterion=gini, max_depth=None, min_samples_leaf=30, min_samples_split=4, n_estimators=1000, score=0.9539473684210527, total=   1.0s\n",
      "[CV] criterion=gini, max_depth=None, min_samples_leaf=30, min_samples_split=4, n_estimators=1000 \n",
      "[CV]  criterion=gini, max_depth=None, min_samples_leaf=30, min_samples_split=4, n_estimators=1000, score=0.9337748344370861, total=   1.4s\n",
      "[CV] criterion=gini, max_depth=100, min_samples_leaf=1, min_samples_split=2, n_estimators=10 \n",
      "[CV]  criterion=gini, max_depth=100, min_samples_leaf=1, min_samples_split=2, n_estimators=10, score=0.9473684210526315, total=   0.0s\n",
      "[CV] criterion=gini, max_depth=100, min_samples_leaf=1, min_samples_split=2, n_estimators=10 \n",
      "[CV]  criterion=gini, max_depth=100, min_samples_leaf=1, min_samples_split=2, n_estimators=10, score=0.9473684210526315, total=   0.0s\n",
      "[CV] criterion=gini, max_depth=100, min_samples_leaf=1, min_samples_split=2, n_estimators=10 \n",
      "[CV]  criterion=gini, max_depth=100, min_samples_leaf=1, min_samples_split=2, n_estimators=10, score=0.9536423841059603, total=   0.0s\n",
      "[CV] criterion=gini, max_depth=100, min_samples_leaf=1, min_samples_split=2, n_estimators=20 \n",
      "[CV]  criterion=gini, max_depth=100, min_samples_leaf=1, min_samples_split=2, n_estimators=20, score=0.9539473684210527, total=   0.0s\n",
      "[CV] criterion=gini, max_depth=100, min_samples_leaf=1, min_samples_split=2, n_estimators=20 \n",
      "[CV]  criterion=gini, max_depth=100, min_samples_leaf=1, min_samples_split=2, n_estimators=20, score=0.9736842105263158, total=   0.0s\n",
      "[CV] criterion=gini, max_depth=100, min_samples_leaf=1, min_samples_split=2, n_estimators=20 \n",
      "[CV]  criterion=gini, max_depth=100, min_samples_leaf=1, min_samples_split=2, n_estimators=20, score=0.9602649006622517, total=   0.0s\n",
      "[CV] criterion=gini, max_depth=100, min_samples_leaf=1, min_samples_split=2, n_estimators=100 \n",
      "[CV]  criterion=gini, max_depth=100, min_samples_leaf=1, min_samples_split=2, n_estimators=100, score=0.9276315789473685, total=   0.0s\n",
      "[CV] criterion=gini, max_depth=100, min_samples_leaf=1, min_samples_split=2, n_estimators=100 \n",
      "[CV]  criterion=gini, max_depth=100, min_samples_leaf=1, min_samples_split=2, n_estimators=100, score=0.9868421052631579, total=   0.0s\n",
      "[CV] criterion=gini, max_depth=100, min_samples_leaf=1, min_samples_split=2, n_estimators=100 \n",
      "[CV]  criterion=gini, max_depth=100, min_samples_leaf=1, min_samples_split=2, n_estimators=100, score=0.9403973509933775, total=   0.0s\n",
      "[CV] criterion=gini, max_depth=100, min_samples_leaf=1, min_samples_split=2, n_estimators=1000 \n",
      "[CV]  criterion=gini, max_depth=100, min_samples_leaf=1, min_samples_split=2, n_estimators=1000, score=0.9342105263157895, total=   1.1s\n",
      "[CV] criterion=gini, max_depth=100, min_samples_leaf=1, min_samples_split=2, n_estimators=1000 \n",
      "[CV]  criterion=gini, max_depth=100, min_samples_leaf=1, min_samples_split=2, n_estimators=1000, score=0.9736842105263158, total=   1.1s\n",
      "[CV] criterion=gini, max_depth=100, min_samples_leaf=1, min_samples_split=2, n_estimators=1000 \n",
      "[CV]  criterion=gini, max_depth=100, min_samples_leaf=1, min_samples_split=2, n_estimators=1000, score=0.9337748344370861, total=   2.3s\n",
      "[CV] criterion=gini, max_depth=100, min_samples_leaf=1, min_samples_split=4, n_estimators=10 \n",
      "[CV]  criterion=gini, max_depth=100, min_samples_leaf=1, min_samples_split=4, n_estimators=10, score=0.9407894736842105, total=   0.0s\n",
      "[CV] criterion=gini, max_depth=100, min_samples_leaf=1, min_samples_split=4, n_estimators=10 \n",
      "[CV]  criterion=gini, max_depth=100, min_samples_leaf=1, min_samples_split=4, n_estimators=10, score=0.9802631578947368, total=   0.0s\n",
      "[CV] criterion=gini, max_depth=100, min_samples_leaf=1, min_samples_split=4, n_estimators=10 \n",
      "[CV]  criterion=gini, max_depth=100, min_samples_leaf=1, min_samples_split=4, n_estimators=10, score=0.9536423841059603, total=   0.0s\n",
      "[CV] criterion=gini, max_depth=100, min_samples_leaf=1, min_samples_split=4, n_estimators=20 \n",
      "[CV]  criterion=gini, max_depth=100, min_samples_leaf=1, min_samples_split=4, n_estimators=20, score=0.9276315789473685, total=   0.0s\n",
      "[CV] criterion=gini, max_depth=100, min_samples_leaf=1, min_samples_split=4, n_estimators=20 \n",
      "[CV]  criterion=gini, max_depth=100, min_samples_leaf=1, min_samples_split=4, n_estimators=20, score=0.993421052631579, total=   0.0s\n",
      "[CV] criterion=gini, max_depth=100, min_samples_leaf=1, min_samples_split=4, n_estimators=20 \n",
      "[CV]  criterion=gini, max_depth=100, min_samples_leaf=1, min_samples_split=4, n_estimators=20, score=0.9470198675496688, total=   0.0s\n",
      "[CV] criterion=gini, max_depth=100, min_samples_leaf=1, min_samples_split=4, n_estimators=100 \n",
      "[CV]  criterion=gini, max_depth=100, min_samples_leaf=1, min_samples_split=4, n_estimators=100, score=0.9210526315789473, total=   0.1s\n",
      "[CV] criterion=gini, max_depth=100, min_samples_leaf=1, min_samples_split=4, n_estimators=100 \n",
      "[CV]  criterion=gini, max_depth=100, min_samples_leaf=1, min_samples_split=4, n_estimators=100, score=0.9868421052631579, total=   0.2s\n",
      "[CV] criterion=gini, max_depth=100, min_samples_leaf=1, min_samples_split=4, n_estimators=100 \n",
      "[CV]  criterion=gini, max_depth=100, min_samples_leaf=1, min_samples_split=4, n_estimators=100, score=0.9337748344370861, total=   0.2s\n",
      "[CV] criterion=gini, max_depth=100, min_samples_leaf=1, min_samples_split=4, n_estimators=1000 \n",
      "[CV]  criterion=gini, max_depth=100, min_samples_leaf=1, min_samples_split=4, n_estimators=1000, score=0.9276315789473685, total=   1.8s\n",
      "[CV] criterion=gini, max_depth=100, min_samples_leaf=1, min_samples_split=4, n_estimators=1000 \n",
      "[CV]  criterion=gini, max_depth=100, min_samples_leaf=1, min_samples_split=4, n_estimators=1000, score=0.9671052631578947, total=   1.4s\n",
      "[CV] criterion=gini, max_depth=100, min_samples_leaf=1, min_samples_split=4, n_estimators=1000 \n",
      "[CV]  criterion=gini, max_depth=100, min_samples_leaf=1, min_samples_split=4, n_estimators=1000, score=0.9337748344370861, total=   2.1s\n",
      "[CV] criterion=gini, max_depth=100, min_samples_leaf=30, min_samples_split=2, n_estimators=10 \n",
      "[CV]  criterion=gini, max_depth=100, min_samples_leaf=30, min_samples_split=2, n_estimators=10, score=0.9210526315789473, total=   0.0s\n",
      "[CV] criterion=gini, max_depth=100, min_samples_leaf=30, min_samples_split=2, n_estimators=10 \n",
      "[CV]  criterion=gini, max_depth=100, min_samples_leaf=30, min_samples_split=2, n_estimators=10, score=0.9407894736842105, total=   0.0s\n",
      "[CV] criterion=gini, max_depth=100, min_samples_leaf=30, min_samples_split=2, n_estimators=10 \n",
      "[CV]  criterion=gini, max_depth=100, min_samples_leaf=30, min_samples_split=2, n_estimators=10, score=0.9271523178807947, total=   0.0s\n",
      "[CV] criterion=gini, max_depth=100, min_samples_leaf=30, min_samples_split=2, n_estimators=20 \n",
      "[CV]  criterion=gini, max_depth=100, min_samples_leaf=30, min_samples_split=2, n_estimators=20, score=0.9013157894736842, total=   0.0s\n",
      "[CV] criterion=gini, max_depth=100, min_samples_leaf=30, min_samples_split=2, n_estimators=20 \n",
      "[CV]  criterion=gini, max_depth=100, min_samples_leaf=30, min_samples_split=2, n_estimators=20, score=0.9539473684210527, total=   0.0s\n",
      "[CV] criterion=gini, max_depth=100, min_samples_leaf=30, min_samples_split=2, n_estimators=20 \n",
      "[CV]  criterion=gini, max_depth=100, min_samples_leaf=30, min_samples_split=2, n_estimators=20, score=0.9337748344370861, total=   0.0s\n",
      "[CV] criterion=gini, max_depth=100, min_samples_leaf=30, min_samples_split=2, n_estimators=100 \n"
     ]
    },
    {
     "name": "stdout",
     "output_type": "stream",
     "text": [
      "[CV]  criterion=gini, max_depth=100, min_samples_leaf=30, min_samples_split=2, n_estimators=100, score=0.8947368421052632, total=   0.0s\n",
      "[CV] criterion=gini, max_depth=100, min_samples_leaf=30, min_samples_split=2, n_estimators=100 \n",
      "[CV]  criterion=gini, max_depth=100, min_samples_leaf=30, min_samples_split=2, n_estimators=100, score=0.9539473684210527, total=   0.0s\n",
      "[CV] criterion=gini, max_depth=100, min_samples_leaf=30, min_samples_split=2, n_estimators=100 \n",
      "[CV]  criterion=gini, max_depth=100, min_samples_leaf=30, min_samples_split=2, n_estimators=100, score=0.9403973509933775, total=   0.0s\n",
      "[CV] criterion=gini, max_depth=100, min_samples_leaf=30, min_samples_split=2, n_estimators=1000 \n",
      "[CV]  criterion=gini, max_depth=100, min_samples_leaf=30, min_samples_split=2, n_estimators=1000, score=0.8881578947368421, total=   1.4s\n",
      "[CV] criterion=gini, max_depth=100, min_samples_leaf=30, min_samples_split=2, n_estimators=1000 \n",
      "[CV]  criterion=gini, max_depth=100, min_samples_leaf=30, min_samples_split=2, n_estimators=1000, score=0.9605263157894737, total=   1.0s\n",
      "[CV] criterion=gini, max_depth=100, min_samples_leaf=30, min_samples_split=2, n_estimators=1000 \n",
      "[CV]  criterion=gini, max_depth=100, min_samples_leaf=30, min_samples_split=2, n_estimators=1000, score=0.9403973509933775, total=   1.7s\n",
      "[CV] criterion=gini, max_depth=100, min_samples_leaf=30, min_samples_split=4, n_estimators=10 \n",
      "[CV]  criterion=gini, max_depth=100, min_samples_leaf=30, min_samples_split=4, n_estimators=10, score=0.8947368421052632, total=   0.0s\n",
      "[CV] criterion=gini, max_depth=100, min_samples_leaf=30, min_samples_split=4, n_estimators=10 \n",
      "[CV]  criterion=gini, max_depth=100, min_samples_leaf=30, min_samples_split=4, n_estimators=10, score=0.9473684210526315, total=   0.0s\n",
      "[CV] criterion=gini, max_depth=100, min_samples_leaf=30, min_samples_split=4, n_estimators=10 \n",
      "[CV]  criterion=gini, max_depth=100, min_samples_leaf=30, min_samples_split=4, n_estimators=10, score=0.9072847682119205, total=   0.0s\n",
      "[CV] criterion=gini, max_depth=100, min_samples_leaf=30, min_samples_split=4, n_estimators=20 \n",
      "[CV]  criterion=gini, max_depth=100, min_samples_leaf=30, min_samples_split=4, n_estimators=20, score=0.9144736842105263, total=   0.0s\n",
      "[CV] criterion=gini, max_depth=100, min_samples_leaf=30, min_samples_split=4, n_estimators=20 \n",
      "[CV]  criterion=gini, max_depth=100, min_samples_leaf=30, min_samples_split=4, n_estimators=20, score=0.9473684210526315, total=   0.0s\n",
      "[CV] criterion=gini, max_depth=100, min_samples_leaf=30, min_samples_split=4, n_estimators=20 \n",
      "[CV]  criterion=gini, max_depth=100, min_samples_leaf=30, min_samples_split=4, n_estimators=20, score=0.9271523178807947, total=   0.0s\n",
      "[CV] criterion=gini, max_depth=100, min_samples_leaf=30, min_samples_split=4, n_estimators=100 \n",
      "[CV]  criterion=gini, max_depth=100, min_samples_leaf=30, min_samples_split=4, n_estimators=100, score=0.8881578947368421, total=   0.0s\n",
      "[CV] criterion=gini, max_depth=100, min_samples_leaf=30, min_samples_split=4, n_estimators=100 \n",
      "[CV]  criterion=gini, max_depth=100, min_samples_leaf=30, min_samples_split=4, n_estimators=100, score=0.9473684210526315, total=   0.0s\n",
      "[CV] criterion=gini, max_depth=100, min_samples_leaf=30, min_samples_split=4, n_estimators=100 \n",
      "[CV]  criterion=gini, max_depth=100, min_samples_leaf=30, min_samples_split=4, n_estimators=100, score=0.9403973509933775, total=   0.0s\n",
      "[CV] criterion=gini, max_depth=100, min_samples_leaf=30, min_samples_split=4, n_estimators=1000 \n",
      "[CV]  criterion=gini, max_depth=100, min_samples_leaf=30, min_samples_split=4, n_estimators=1000, score=0.8947368421052632, total=   1.1s\n",
      "[CV] criterion=gini, max_depth=100, min_samples_leaf=30, min_samples_split=4, n_estimators=1000 \n",
      "[CV]  criterion=gini, max_depth=100, min_samples_leaf=30, min_samples_split=4, n_estimators=1000, score=0.9605263157894737, total=   1.7s\n",
      "[CV] criterion=gini, max_depth=100, min_samples_leaf=30, min_samples_split=4, n_estimators=1000 \n",
      "[CV]  criterion=gini, max_depth=100, min_samples_leaf=30, min_samples_split=4, n_estimators=1000, score=0.9337748344370861, total=   3.3s\n",
      "[CV] criterion=gini, max_depth=200, min_samples_leaf=1, min_samples_split=2, n_estimators=10 \n",
      "[CV]  criterion=gini, max_depth=200, min_samples_leaf=1, min_samples_split=2, n_estimators=10, score=0.9276315789473685, total=   0.0s\n",
      "[CV] criterion=gini, max_depth=200, min_samples_leaf=1, min_samples_split=2, n_estimators=10 \n",
      "[CV]  criterion=gini, max_depth=200, min_samples_leaf=1, min_samples_split=2, n_estimators=10, score=0.9671052631578947, total=   0.0s\n",
      "[CV] criterion=gini, max_depth=200, min_samples_leaf=1, min_samples_split=2, n_estimators=10 \n",
      "[CV]  criterion=gini, max_depth=200, min_samples_leaf=1, min_samples_split=2, n_estimators=10, score=0.9470198675496688, total=   0.0s\n",
      "[CV] criterion=gini, max_depth=200, min_samples_leaf=1, min_samples_split=2, n_estimators=20 \n",
      "[CV]  criterion=gini, max_depth=200, min_samples_leaf=1, min_samples_split=2, n_estimators=20, score=0.9407894736842105, total=   0.0s\n",
      "[CV] criterion=gini, max_depth=200, min_samples_leaf=1, min_samples_split=2, n_estimators=20 \n",
      "[CV]  criterion=gini, max_depth=200, min_samples_leaf=1, min_samples_split=2, n_estimators=20, score=0.9671052631578947, total=   0.0s\n",
      "[CV] criterion=gini, max_depth=200, min_samples_leaf=1, min_samples_split=2, n_estimators=20 \n",
      "[CV]  criterion=gini, max_depth=200, min_samples_leaf=1, min_samples_split=2, n_estimators=20, score=0.9470198675496688, total=   0.0s\n",
      "[CV] criterion=gini, max_depth=200, min_samples_leaf=1, min_samples_split=2, n_estimators=100 \n",
      "[CV]  criterion=gini, max_depth=200, min_samples_leaf=1, min_samples_split=2, n_estimators=100, score=0.9144736842105263, total=   0.2s\n",
      "[CV] criterion=gini, max_depth=200, min_samples_leaf=1, min_samples_split=2, n_estimators=100 \n",
      "[CV]  criterion=gini, max_depth=200, min_samples_leaf=1, min_samples_split=2, n_estimators=100, score=0.9802631578947368, total=   0.1s\n",
      "[CV] criterion=gini, max_depth=200, min_samples_leaf=1, min_samples_split=2, n_estimators=100 \n",
      "[CV]  criterion=gini, max_depth=200, min_samples_leaf=1, min_samples_split=2, n_estimators=100, score=0.9470198675496688, total=   0.2s\n",
      "[CV] criterion=gini, max_depth=200, min_samples_leaf=1, min_samples_split=2, n_estimators=1000 \n",
      "[CV]  criterion=gini, max_depth=200, min_samples_leaf=1, min_samples_split=2, n_estimators=1000, score=0.9342105263157895, total=   1.2s\n",
      "[CV] criterion=gini, max_depth=200, min_samples_leaf=1, min_samples_split=2, n_estimators=1000 \n",
      "[CV]  criterion=gini, max_depth=200, min_samples_leaf=1, min_samples_split=2, n_estimators=1000, score=0.9671052631578947, total=   1.4s\n",
      "[CV] criterion=gini, max_depth=200, min_samples_leaf=1, min_samples_split=2, n_estimators=1000 \n",
      "[CV]  criterion=gini, max_depth=200, min_samples_leaf=1, min_samples_split=2, n_estimators=1000, score=0.9337748344370861, total=   2.0s\n",
      "[CV] criterion=gini, max_depth=200, min_samples_leaf=1, min_samples_split=4, n_estimators=10 \n",
      "[CV]  criterion=gini, max_depth=200, min_samples_leaf=1, min_samples_split=4, n_estimators=10, score=0.9407894736842105, total=   0.0s\n",
      "[CV] criterion=gini, max_depth=200, min_samples_leaf=1, min_samples_split=4, n_estimators=10 \n",
      "[CV]  criterion=gini, max_depth=200, min_samples_leaf=1, min_samples_split=4, n_estimators=10, score=0.9473684210526315, total=   0.0s\n",
      "[CV] criterion=gini, max_depth=200, min_samples_leaf=1, min_samples_split=4, n_estimators=10 \n",
      "[CV]  criterion=gini, max_depth=200, min_samples_leaf=1, min_samples_split=4, n_estimators=10, score=0.9470198675496688, total=   0.0s\n",
      "[CV] criterion=gini, max_depth=200, min_samples_leaf=1, min_samples_split=4, n_estimators=20 \n",
      "[CV]  criterion=gini, max_depth=200, min_samples_leaf=1, min_samples_split=4, n_estimators=20, score=0.9276315789473685, total=   0.0s\n",
      "[CV] criterion=gini, max_depth=200, min_samples_leaf=1, min_samples_split=4, n_estimators=20 \n",
      "[CV]  criterion=gini, max_depth=200, min_samples_leaf=1, min_samples_split=4, n_estimators=20, score=0.9802631578947368, total=   0.0s\n",
      "[CV] criterion=gini, max_depth=200, min_samples_leaf=1, min_samples_split=4, n_estimators=20 \n",
      "[CV]  criterion=gini, max_depth=200, min_samples_leaf=1, min_samples_split=4, n_estimators=20, score=0.9403973509933775, total=   0.0s\n",
      "[CV] criterion=gini, max_depth=200, min_samples_leaf=1, min_samples_split=4, n_estimators=100 \n"
     ]
    },
    {
     "name": "stdout",
     "output_type": "stream",
     "text": [
      "[CV]  criterion=gini, max_depth=200, min_samples_leaf=1, min_samples_split=4, n_estimators=100, score=0.9342105263157895, total=   0.1s\n",
      "[CV] criterion=gini, max_depth=200, min_samples_leaf=1, min_samples_split=4, n_estimators=100 \n",
      "[CV]  criterion=gini, max_depth=200, min_samples_leaf=1, min_samples_split=4, n_estimators=100, score=0.9802631578947368, total=   0.1s\n",
      "[CV] criterion=gini, max_depth=200, min_samples_leaf=1, min_samples_split=4, n_estimators=100 \n",
      "[CV]  criterion=gini, max_depth=200, min_samples_leaf=1, min_samples_split=4, n_estimators=100, score=0.9337748344370861, total=   0.1s\n",
      "[CV] criterion=gini, max_depth=200, min_samples_leaf=1, min_samples_split=4, n_estimators=1000 \n",
      "[CV]  criterion=gini, max_depth=200, min_samples_leaf=1, min_samples_split=4, n_estimators=1000, score=0.9342105263157895, total=   1.4s\n",
      "[CV] criterion=gini, max_depth=200, min_samples_leaf=1, min_samples_split=4, n_estimators=1000 \n",
      "[CV]  criterion=gini, max_depth=200, min_samples_leaf=1, min_samples_split=4, n_estimators=1000, score=0.9736842105263158, total=   1.7s\n",
      "[CV] criterion=gini, max_depth=200, min_samples_leaf=1, min_samples_split=4, n_estimators=1000 \n",
      "[CV]  criterion=gini, max_depth=200, min_samples_leaf=1, min_samples_split=4, n_estimators=1000, score=0.9337748344370861, total=   1.5s\n",
      "[CV] criterion=gini, max_depth=200, min_samples_leaf=30, min_samples_split=2, n_estimators=10 \n",
      "[CV]  criterion=gini, max_depth=200, min_samples_leaf=30, min_samples_split=2, n_estimators=10, score=0.881578947368421, total=   0.0s\n",
      "[CV] criterion=gini, max_depth=200, min_samples_leaf=30, min_samples_split=2, n_estimators=10 \n",
      "[CV]  criterion=gini, max_depth=200, min_samples_leaf=30, min_samples_split=2, n_estimators=10, score=0.9407894736842105, total=   0.0s\n",
      "[CV] criterion=gini, max_depth=200, min_samples_leaf=30, min_samples_split=2, n_estimators=10 \n",
      "[CV]  criterion=gini, max_depth=200, min_samples_leaf=30, min_samples_split=2, n_estimators=10, score=0.9337748344370861, total=   0.0s\n",
      "[CV] criterion=gini, max_depth=200, min_samples_leaf=30, min_samples_split=2, n_estimators=20 \n",
      "[CV]  criterion=gini, max_depth=200, min_samples_leaf=30, min_samples_split=2, n_estimators=20, score=0.8881578947368421, total=   0.0s\n",
      "[CV] criterion=gini, max_depth=200, min_samples_leaf=30, min_samples_split=2, n_estimators=20 \n",
      "[CV]  criterion=gini, max_depth=200, min_samples_leaf=30, min_samples_split=2, n_estimators=20, score=0.9473684210526315, total=   0.0s\n",
      "[CV] criterion=gini, max_depth=200, min_samples_leaf=30, min_samples_split=2, n_estimators=20 \n",
      "[CV]  criterion=gini, max_depth=200, min_samples_leaf=30, min_samples_split=2, n_estimators=20, score=0.9403973509933775, total=   0.0s\n",
      "[CV] criterion=gini, max_depth=200, min_samples_leaf=30, min_samples_split=2, n_estimators=100 \n",
      "[CV]  criterion=gini, max_depth=200, min_samples_leaf=30, min_samples_split=2, n_estimators=100, score=0.8947368421052632, total=   0.1s\n",
      "[CV] criterion=gini, max_depth=200, min_samples_leaf=30, min_samples_split=2, n_estimators=100 \n",
      "[CV]  criterion=gini, max_depth=200, min_samples_leaf=30, min_samples_split=2, n_estimators=100, score=0.9539473684210527, total=   0.1s\n",
      "[CV] criterion=gini, max_depth=200, min_samples_leaf=30, min_samples_split=2, n_estimators=100 \n",
      "[CV]  criterion=gini, max_depth=200, min_samples_leaf=30, min_samples_split=2, n_estimators=100, score=0.9337748344370861, total=   0.1s\n",
      "[CV] criterion=gini, max_depth=200, min_samples_leaf=30, min_samples_split=2, n_estimators=1000 \n",
      "[CV]  criterion=gini, max_depth=200, min_samples_leaf=30, min_samples_split=2, n_estimators=1000, score=0.8881578947368421, total=   1.6s\n",
      "[CV] criterion=gini, max_depth=200, min_samples_leaf=30, min_samples_split=2, n_estimators=1000 \n",
      "[CV]  criterion=gini, max_depth=200, min_samples_leaf=30, min_samples_split=2, n_estimators=1000, score=0.9605263157894737, total=   1.4s\n",
      "[CV] criterion=gini, max_depth=200, min_samples_leaf=30, min_samples_split=2, n_estimators=1000 \n",
      "[CV]  criterion=gini, max_depth=200, min_samples_leaf=30, min_samples_split=2, n_estimators=1000, score=0.9403973509933775, total=   1.2s\n",
      "[CV] criterion=gini, max_depth=200, min_samples_leaf=30, min_samples_split=4, n_estimators=10 \n",
      "[CV]  criterion=gini, max_depth=200, min_samples_leaf=30, min_samples_split=4, n_estimators=10, score=0.9013157894736842, total=   0.0s\n",
      "[CV] criterion=gini, max_depth=200, min_samples_leaf=30, min_samples_split=4, n_estimators=10 \n",
      "[CV]  criterion=gini, max_depth=200, min_samples_leaf=30, min_samples_split=4, n_estimators=10, score=0.9539473684210527, total=   0.0s\n",
      "[CV] criterion=gini, max_depth=200, min_samples_leaf=30, min_samples_split=4, n_estimators=10 \n",
      "[CV]  criterion=gini, max_depth=200, min_samples_leaf=30, min_samples_split=4, n_estimators=10, score=0.9470198675496688, total=   0.0s\n",
      "[CV] criterion=gini, max_depth=200, min_samples_leaf=30, min_samples_split=4, n_estimators=20 \n",
      "[CV]  criterion=gini, max_depth=200, min_samples_leaf=30, min_samples_split=4, n_estimators=20, score=0.8947368421052632, total=   0.0s\n",
      "[CV] criterion=gini, max_depth=200, min_samples_leaf=30, min_samples_split=4, n_estimators=20 \n",
      "[CV]  criterion=gini, max_depth=200, min_samples_leaf=30, min_samples_split=4, n_estimators=20, score=0.9605263157894737, total=   0.0s\n",
      "[CV] criterion=gini, max_depth=200, min_samples_leaf=30, min_samples_split=4, n_estimators=20 \n",
      "[CV]  criterion=gini, max_depth=200, min_samples_leaf=30, min_samples_split=4, n_estimators=20, score=0.9271523178807947, total=   0.0s\n",
      "[CV] criterion=gini, max_depth=200, min_samples_leaf=30, min_samples_split=4, n_estimators=100 \n",
      "[CV]  criterion=gini, max_depth=200, min_samples_leaf=30, min_samples_split=4, n_estimators=100, score=0.8881578947368421, total=   0.1s\n",
      "[CV] criterion=gini, max_depth=200, min_samples_leaf=30, min_samples_split=4, n_estimators=100 \n",
      "[CV]  criterion=gini, max_depth=200, min_samples_leaf=30, min_samples_split=4, n_estimators=100, score=0.9539473684210527, total=   0.0s\n",
      "[CV] criterion=gini, max_depth=200, min_samples_leaf=30, min_samples_split=4, n_estimators=100 \n",
      "[CV]  criterion=gini, max_depth=200, min_samples_leaf=30, min_samples_split=4, n_estimators=100, score=0.9403973509933775, total=   0.0s\n",
      "[CV] criterion=gini, max_depth=200, min_samples_leaf=30, min_samples_split=4, n_estimators=1000 \n",
      "[CV]  criterion=gini, max_depth=200, min_samples_leaf=30, min_samples_split=4, n_estimators=1000, score=0.9013157894736842, total=   1.2s\n",
      "[CV] criterion=gini, max_depth=200, min_samples_leaf=30, min_samples_split=4, n_estimators=1000 \n",
      "[CV]  criterion=gini, max_depth=200, min_samples_leaf=30, min_samples_split=4, n_estimators=1000, score=0.9539473684210527, total=   1.2s\n",
      "[CV] criterion=gini, max_depth=200, min_samples_leaf=30, min_samples_split=4, n_estimators=1000 \n",
      "[CV]  criterion=gini, max_depth=200, min_samples_leaf=30, min_samples_split=4, n_estimators=1000, score=0.9403973509933775, total=   1.6s\n"
     ]
    },
    {
     "name": "stderr",
     "output_type": "stream",
     "text": [
      "[Parallel(n_jobs=1)]: Done 144 out of 144 | elapsed:  1.2min finished\n"
     ]
    },
    {
     "data": {
      "text/plain": [
       "GridSearchCV(cv=None, error_score='raise',\n",
       "       estimator=RandomForestClassifier(bootstrap=True, class_weight=None, criterion='gini',\n",
       "            max_depth=None, max_features='auto', max_leaf_nodes=None,\n",
       "            min_impurity_decrease=0.0, min_impurity_split=None,\n",
       "            min_samples_leaf=1, min_samples_split=2,\n",
       "            min_weight_fraction_leaf=0.0, n_estimators=10, n_jobs=1,\n",
       "            oob_score=False, random_state=None, verbose=0,\n",
       "            warm_start=False),\n",
       "       fit_params=None, iid=True, n_jobs=1,\n",
       "       param_grid={'n_estimators': [10, 20, 100, 1000], 'criterion': ['gini'], 'max_depth': [None, 100, 200], 'min_samples_split': [2, 4], 'min_samples_leaf': [1, 30]},\n",
       "       pre_dispatch='2*n_jobs', refit=True, return_train_score='warn',\n",
       "       scoring=None, verbose=5)"
      ]
     },
     "execution_count": 149,
     "metadata": {},
     "output_type": "execute_result"
    }
   ],
   "source": [
    "#### Random Forest model\n",
    "#model\n",
    "model = RandomForestClassifier()\n",
    "\n",
    "#grid search parmaters\n",
    "para = para =  {'n_estimators':[10, 20, 100, 1000],\n",
    "         'criterion':['gini'], \n",
    "         'max_depth':[None, 100, 200],              \n",
    "         'min_samples_split':[2,4],\n",
    "         'min_samples_leaf':[1,30]}\n",
    "\n",
    "#grid search\n",
    "grid_search = GridSearchCV(estimator=model,\n",
    "                            param_grid=para,\n",
    "                            scoring=None,\n",
    "                            fit_params=None,\n",
    "                            n_jobs=1, iid=True,\n",
    "                            refit=True,\n",
    "                            cv=None,\n",
    "                            verbose=5,\n",
    "                            pre_dispatch='2*n_jobs',\n",
    "                            error_score='raise',\n",
    "                            return_train_score='warn')\n",
    "\n",
    "\n",
    "#GridSearch fit\n",
    "grid_search.fit(X_train,y_train)"
   ]
  },
  {
   "cell_type": "code",
   "execution_count": 150,
   "metadata": {},
   "outputs": [
    {
     "name": "stdout",
     "output_type": "stream",
     "text": [
      "{'criterion': 'gini', 'max_depth': 100, 'min_samples_leaf': 1, 'min_samples_split': 2, 'n_estimators': 20}\n"
     ]
    }
   ],
   "source": [
    "#Best GridSearch Paramters\n",
    "print(grid_search.best_params_)\n",
    "\n",
    "#Best GridSearch estimator\n",
    "best_gridsearch3= grid_search.best_estimator_\n",
    "\n",
    "#Fit model with best estimator\n",
    "#best_gridsearch.fit(X_train, y_test)"
   ]
  },
  {
   "cell_type": "code",
   "execution_count": 151,
   "metadata": {},
   "outputs": [
    {
     "name": "stdout",
     "output_type": "stream",
     "text": [
      "Fitting 3 folds for each of 24 candidates, totalling 72 fits\n",
      "[CV] boosting_type=gbdt, learning_rate=0.1, max_depth=-1, n_estimators=100, num_leaves=31 \n",
      "[CV]  boosting_type=gbdt, learning_rate=0.1, max_depth=-1, n_estimators=100, num_leaves=31, score=0.9210526315789473, total=   0.0s\n",
      "[CV] boosting_type=gbdt, learning_rate=0.1, max_depth=-1, n_estimators=100, num_leaves=31 \n",
      "[CV]  boosting_type=gbdt, learning_rate=0.1, max_depth=-1, n_estimators=100, num_leaves=31, score=0.9868421052631579, total=   0.0s\n",
      "[CV] boosting_type=gbdt, learning_rate=0.1, max_depth=-1, n_estimators=100, num_leaves=31 \n"
     ]
    },
    {
     "name": "stderr",
     "output_type": "stream",
     "text": [
      "[Parallel(n_jobs=1)]: Done   1 out of   1 | elapsed:    0.0s remaining:    0.0s\n",
      "[Parallel(n_jobs=1)]: Done   2 out of   2 | elapsed:    0.0s remaining:    0.0s\n"
     ]
    },
    {
     "name": "stdout",
     "output_type": "stream",
     "text": [
      "[CV]  boosting_type=gbdt, learning_rate=0.1, max_depth=-1, n_estimators=100, num_leaves=31, score=0.9602649006622517, total=   0.0s\n",
      "[CV] boosting_type=gbdt, learning_rate=0.1, max_depth=-1, n_estimators=100, num_leaves=50 \n"
     ]
    },
    {
     "name": "stderr",
     "output_type": "stream",
     "text": [
      "[Parallel(n_jobs=1)]: Done   3 out of   3 | elapsed:    0.1s remaining:    0.0s\n",
      "[Parallel(n_jobs=1)]: Done   4 out of   4 | elapsed:    0.1s remaining:    0.0s\n"
     ]
    },
    {
     "name": "stdout",
     "output_type": "stream",
     "text": [
      "[CV]  boosting_type=gbdt, learning_rate=0.1, max_depth=-1, n_estimators=100, num_leaves=50, score=0.9210526315789473, total=   0.0s\n",
      "[CV] boosting_type=gbdt, learning_rate=0.1, max_depth=-1, n_estimators=100, num_leaves=50 \n",
      "[CV]  boosting_type=gbdt, learning_rate=0.1, max_depth=-1, n_estimators=100, num_leaves=50, score=0.9868421052631579, total=   0.0s\n",
      "[CV] boosting_type=gbdt, learning_rate=0.1, max_depth=-1, n_estimators=100, num_leaves=50 \n",
      "[CV]  boosting_type=gbdt, learning_rate=0.1, max_depth=-1, n_estimators=100, num_leaves=50, score=0.9602649006622517, total=   0.0s\n",
      "[CV] boosting_type=gbdt, learning_rate=0.1, max_depth=-1, n_estimators=300, num_leaves=31 \n",
      "[CV]  boosting_type=gbdt, learning_rate=0.1, max_depth=-1, n_estimators=300, num_leaves=31, score=0.9342105263157895, total=   0.0s\n",
      "[CV] boosting_type=gbdt, learning_rate=0.1, max_depth=-1, n_estimators=300, num_leaves=31 \n",
      "[CV]  boosting_type=gbdt, learning_rate=0.1, max_depth=-1, n_estimators=300, num_leaves=31, score=0.9736842105263158, total=   0.0s\n",
      "[CV] boosting_type=gbdt, learning_rate=0.1, max_depth=-1, n_estimators=300, num_leaves=31 \n",
      "[CV]  boosting_type=gbdt, learning_rate=0.1, max_depth=-1, n_estimators=300, num_leaves=31, score=0.9602649006622517, total=   0.0s\n",
      "[CV] boosting_type=gbdt, learning_rate=0.1, max_depth=-1, n_estimators=300, num_leaves=50 \n",
      "[CV]  boosting_type=gbdt, learning_rate=0.1, max_depth=-1, n_estimators=300, num_leaves=50, score=0.9342105263157895, total=   0.0s\n",
      "[CV] boosting_type=gbdt, learning_rate=0.1, max_depth=-1, n_estimators=300, num_leaves=50 \n",
      "[CV]  boosting_type=gbdt, learning_rate=0.1, max_depth=-1, n_estimators=300, num_leaves=50, score=0.9736842105263158, total=   0.0s\n",
      "[CV] boosting_type=gbdt, learning_rate=0.1, max_depth=-1, n_estimators=300, num_leaves=50 \n",
      "[CV]  boosting_type=gbdt, learning_rate=0.1, max_depth=-1, n_estimators=300, num_leaves=50, score=0.9602649006622517, total=   0.0s\n",
      "[CV] boosting_type=gbdt, learning_rate=0.1, max_depth=-1, n_estimators=1000, num_leaves=31 \n",
      "[CV]  boosting_type=gbdt, learning_rate=0.1, max_depth=-1, n_estimators=1000, num_leaves=31, score=0.9342105263157895, total=   0.1s\n",
      "[CV] boosting_type=gbdt, learning_rate=0.1, max_depth=-1, n_estimators=1000, num_leaves=31 \n",
      "[CV]  boosting_type=gbdt, learning_rate=0.1, max_depth=-1, n_estimators=1000, num_leaves=31, score=0.9736842105263158, total=   0.0s\n",
      "[CV] boosting_type=gbdt, learning_rate=0.1, max_depth=-1, n_estimators=1000, num_leaves=31 \n",
      "[CV]  boosting_type=gbdt, learning_rate=0.1, max_depth=-1, n_estimators=1000, num_leaves=31, score=0.9602649006622517, total=   0.0s\n",
      "[CV] boosting_type=gbdt, learning_rate=0.1, max_depth=-1, n_estimators=1000, num_leaves=50 \n",
      "[CV]  boosting_type=gbdt, learning_rate=0.1, max_depth=-1, n_estimators=1000, num_leaves=50, score=0.9342105263157895, total=   0.1s\n",
      "[CV] boosting_type=gbdt, learning_rate=0.1, max_depth=-1, n_estimators=1000, num_leaves=50 \n",
      "[CV]  boosting_type=gbdt, learning_rate=0.1, max_depth=-1, n_estimators=1000, num_leaves=50, score=0.9736842105263158, total=   0.1s\n",
      "[CV] boosting_type=gbdt, learning_rate=0.1, max_depth=-1, n_estimators=1000, num_leaves=50 \n",
      "[CV]  boosting_type=gbdt, learning_rate=0.1, max_depth=-1, n_estimators=1000, num_leaves=50, score=0.9602649006622517, total=   0.1s\n",
      "[CV] boosting_type=gbdt, learning_rate=0.5, max_depth=-1, n_estimators=100, num_leaves=31 \n",
      "[CV]  boosting_type=gbdt, learning_rate=0.5, max_depth=-1, n_estimators=100, num_leaves=31, score=0.9407894736842105, total=   0.0s\n",
      "[CV] boosting_type=gbdt, learning_rate=0.5, max_depth=-1, n_estimators=100, num_leaves=31 \n",
      "[CV]  boosting_type=gbdt, learning_rate=0.5, max_depth=-1, n_estimators=100, num_leaves=31, score=0.9671052631578947, total=   0.0s\n",
      "[CV] boosting_type=gbdt, learning_rate=0.5, max_depth=-1, n_estimators=100, num_leaves=31 \n",
      "[CV]  boosting_type=gbdt, learning_rate=0.5, max_depth=-1, n_estimators=100, num_leaves=31, score=0.9668874172185431, total=   0.0s\n",
      "[CV] boosting_type=gbdt, learning_rate=0.5, max_depth=-1, n_estimators=100, num_leaves=50 \n",
      "[CV]  boosting_type=gbdt, learning_rate=0.5, max_depth=-1, n_estimators=100, num_leaves=50, score=0.9407894736842105, total=   0.0s\n",
      "[CV] boosting_type=gbdt, learning_rate=0.5, max_depth=-1, n_estimators=100, num_leaves=50 \n",
      "[CV]  boosting_type=gbdt, learning_rate=0.5, max_depth=-1, n_estimators=100, num_leaves=50, score=0.9671052631578947, total=   0.0s\n",
      "[CV] boosting_type=gbdt, learning_rate=0.5, max_depth=-1, n_estimators=100, num_leaves=50 \n",
      "[CV]  boosting_type=gbdt, learning_rate=0.5, max_depth=-1, n_estimators=100, num_leaves=50, score=0.9668874172185431, total=   0.0s\n",
      "[CV] boosting_type=gbdt, learning_rate=0.5, max_depth=-1, n_estimators=300, num_leaves=31 \n",
      "[CV]  boosting_type=gbdt, learning_rate=0.5, max_depth=-1, n_estimators=300, num_leaves=31, score=0.9407894736842105, total=   0.0s\n",
      "[CV] boosting_type=gbdt, learning_rate=0.5, max_depth=-1, n_estimators=300, num_leaves=31 \n",
      "[CV]  boosting_type=gbdt, learning_rate=0.5, max_depth=-1, n_estimators=300, num_leaves=31, score=0.9671052631578947, total=   0.0s\n",
      "[CV] boosting_type=gbdt, learning_rate=0.5, max_depth=-1, n_estimators=300, num_leaves=31 \n",
      "[CV]  boosting_type=gbdt, learning_rate=0.5, max_depth=-1, n_estimators=300, num_leaves=31, score=0.9668874172185431, total=   0.0s\n",
      "[CV] boosting_type=gbdt, learning_rate=0.5, max_depth=-1, n_estimators=300, num_leaves=50 \n",
      "[CV]  boosting_type=gbdt, learning_rate=0.5, max_depth=-1, n_estimators=300, num_leaves=50, score=0.9407894736842105, total=   0.0s\n",
      "[CV] boosting_type=gbdt, learning_rate=0.5, max_depth=-1, n_estimators=300, num_leaves=50 \n",
      "[CV]  boosting_type=gbdt, learning_rate=0.5, max_depth=-1, n_estimators=300, num_leaves=50, score=0.9671052631578947, total=   0.0s\n",
      "[CV] boosting_type=gbdt, learning_rate=0.5, max_depth=-1, n_estimators=300, num_leaves=50 \n",
      "[CV]  boosting_type=gbdt, learning_rate=0.5, max_depth=-1, n_estimators=300, num_leaves=50, score=0.9668874172185431, total=   0.0s\n",
      "[CV] boosting_type=gbdt, learning_rate=0.5, max_depth=-1, n_estimators=1000, num_leaves=31 \n",
      "[CV]  boosting_type=gbdt, learning_rate=0.5, max_depth=-1, n_estimators=1000, num_leaves=31, score=0.9407894736842105, total=   0.0s\n",
      "[CV] boosting_type=gbdt, learning_rate=0.5, max_depth=-1, n_estimators=1000, num_leaves=31 \n",
      "[CV]  boosting_type=gbdt, learning_rate=0.5, max_depth=-1, n_estimators=1000, num_leaves=31, score=0.9671052631578947, total=   0.0s\n",
      "[CV] boosting_type=gbdt, learning_rate=0.5, max_depth=-1, n_estimators=1000, num_leaves=31 \n",
      "[CV]  boosting_type=gbdt, learning_rate=0.5, max_depth=-1, n_estimators=1000, num_leaves=31, score=0.9668874172185431, total=   0.0s\n",
      "[CV] boosting_type=gbdt, learning_rate=0.5, max_depth=-1, n_estimators=1000, num_leaves=50 \n",
      "[CV]  boosting_type=gbdt, learning_rate=0.5, max_depth=-1, n_estimators=1000, num_leaves=50, score=0.9407894736842105, total=   0.0s\n",
      "[CV] boosting_type=gbdt, learning_rate=0.5, max_depth=-1, n_estimators=1000, num_leaves=50 \n",
      "[CV]  boosting_type=gbdt, learning_rate=0.5, max_depth=-1, n_estimators=1000, num_leaves=50, score=0.9671052631578947, total=   0.0s\n",
      "[CV] boosting_type=gbdt, learning_rate=0.5, max_depth=-1, n_estimators=1000, num_leaves=50 \n",
      "[CV]  boosting_type=gbdt, learning_rate=0.5, max_depth=-1, n_estimators=1000, num_leaves=50, score=0.9668874172185431, total=   0.0s\n",
      "[CV] boosting_type=dart, learning_rate=0.1, max_depth=-1, n_estimators=100, num_leaves=31 \n",
      "[CV]  boosting_type=dart, learning_rate=0.1, max_depth=-1, n_estimators=100, num_leaves=31, score=0.9276315789473685, total=   0.0s\n",
      "[CV] boosting_type=dart, learning_rate=0.1, max_depth=-1, n_estimators=100, num_leaves=31 \n",
      "[CV]  boosting_type=dart, learning_rate=0.1, max_depth=-1, n_estimators=100, num_leaves=31, score=0.9802631578947368, total=   0.0s\n",
      "[CV] boosting_type=dart, learning_rate=0.1, max_depth=-1, n_estimators=100, num_leaves=31 \n",
      "[CV]  boosting_type=dart, learning_rate=0.1, max_depth=-1, n_estimators=100, num_leaves=31, score=0.9602649006622517, total=   0.0s\n",
      "[CV] boosting_type=dart, learning_rate=0.1, max_depth=-1, n_estimators=100, num_leaves=50 \n",
      "[CV]  boosting_type=dart, learning_rate=0.1, max_depth=-1, n_estimators=100, num_leaves=50, score=0.9276315789473685, total=   0.0s\n",
      "[CV] boosting_type=dart, learning_rate=0.1, max_depth=-1, n_estimators=100, num_leaves=50 \n",
      "[CV]  boosting_type=dart, learning_rate=0.1, max_depth=-1, n_estimators=100, num_leaves=50, score=0.9802631578947368, total=   0.0s\n",
      "[CV] boosting_type=dart, learning_rate=0.1, max_depth=-1, n_estimators=100, num_leaves=50 \n",
      "[CV]  boosting_type=dart, learning_rate=0.1, max_depth=-1, n_estimators=100, num_leaves=50, score=0.9602649006622517, total=   0.0s\n",
      "[CV] boosting_type=dart, learning_rate=0.1, max_depth=-1, n_estimators=300, num_leaves=31 \n"
     ]
    },
    {
     "name": "stdout",
     "output_type": "stream",
     "text": [
      "[CV]  boosting_type=dart, learning_rate=0.1, max_depth=-1, n_estimators=300, num_leaves=31, score=0.9276315789473685, total=   0.1s\n",
      "[CV] boosting_type=dart, learning_rate=0.1, max_depth=-1, n_estimators=300, num_leaves=31 \n",
      "[CV]  boosting_type=dart, learning_rate=0.1, max_depth=-1, n_estimators=300, num_leaves=31, score=0.9802631578947368, total=   0.1s\n",
      "[CV] boosting_type=dart, learning_rate=0.1, max_depth=-1, n_estimators=300, num_leaves=31 \n",
      "[CV]  boosting_type=dart, learning_rate=0.1, max_depth=-1, n_estimators=300, num_leaves=31, score=0.9668874172185431, total=   0.1s\n",
      "[CV] boosting_type=dart, learning_rate=0.1, max_depth=-1, n_estimators=300, num_leaves=50 \n",
      "[CV]  boosting_type=dart, learning_rate=0.1, max_depth=-1, n_estimators=300, num_leaves=50, score=0.9276315789473685, total=   0.6s\n",
      "[CV] boosting_type=dart, learning_rate=0.1, max_depth=-1, n_estimators=300, num_leaves=50 \n",
      "[CV]  boosting_type=dart, learning_rate=0.1, max_depth=-1, n_estimators=300, num_leaves=50, score=0.9802631578947368, total=   0.1s\n",
      "[CV] boosting_type=dart, learning_rate=0.1, max_depth=-1, n_estimators=300, num_leaves=50 \n",
      "[CV]  boosting_type=dart, learning_rate=0.1, max_depth=-1, n_estimators=300, num_leaves=50, score=0.9668874172185431, total=   0.1s\n",
      "[CV] boosting_type=dart, learning_rate=0.1, max_depth=-1, n_estimators=1000, num_leaves=31 \n",
      "[CV]  boosting_type=dart, learning_rate=0.1, max_depth=-1, n_estimators=1000, num_leaves=31, score=0.9276315789473685, total=   0.6s\n",
      "[CV] boosting_type=dart, learning_rate=0.1, max_depth=-1, n_estimators=1000, num_leaves=31 \n",
      "[CV]  boosting_type=dart, learning_rate=0.1, max_depth=-1, n_estimators=1000, num_leaves=31, score=0.9802631578947368, total=   1.4s\n",
      "[CV] boosting_type=dart, learning_rate=0.1, max_depth=-1, n_estimators=1000, num_leaves=31 \n",
      "[CV]  boosting_type=dart, learning_rate=0.1, max_depth=-1, n_estimators=1000, num_leaves=31, score=0.9735099337748344, total=   1.1s\n",
      "[CV] boosting_type=dart, learning_rate=0.1, max_depth=-1, n_estimators=1000, num_leaves=50 \n",
      "[CV]  boosting_type=dart, learning_rate=0.1, max_depth=-1, n_estimators=1000, num_leaves=50, score=0.9276315789473685, total=   0.9s\n",
      "[CV] boosting_type=dart, learning_rate=0.1, max_depth=-1, n_estimators=1000, num_leaves=50 \n",
      "[CV]  boosting_type=dart, learning_rate=0.1, max_depth=-1, n_estimators=1000, num_leaves=50, score=0.9802631578947368, total=   1.3s\n",
      "[CV] boosting_type=dart, learning_rate=0.1, max_depth=-1, n_estimators=1000, num_leaves=50 \n",
      "[CV]  boosting_type=dart, learning_rate=0.1, max_depth=-1, n_estimators=1000, num_leaves=50, score=0.9735099337748344, total=   0.9s\n",
      "[CV] boosting_type=dart, learning_rate=0.5, max_depth=-1, n_estimators=100, num_leaves=31 \n",
      "[CV]  boosting_type=dart, learning_rate=0.5, max_depth=-1, n_estimators=100, num_leaves=31, score=0.9342105263157895, total=   0.0s\n",
      "[CV] boosting_type=dart, learning_rate=0.5, max_depth=-1, n_estimators=100, num_leaves=31 \n",
      "[CV]  boosting_type=dart, learning_rate=0.5, max_depth=-1, n_estimators=100, num_leaves=31, score=0.9802631578947368, total=   0.0s\n",
      "[CV] boosting_type=dart, learning_rate=0.5, max_depth=-1, n_estimators=100, num_leaves=31 \n",
      "[CV]  boosting_type=dart, learning_rate=0.5, max_depth=-1, n_estimators=100, num_leaves=31, score=0.9602649006622517, total=   0.0s\n",
      "[CV] boosting_type=dart, learning_rate=0.5, max_depth=-1, n_estimators=100, num_leaves=50 \n",
      "[CV]  boosting_type=dart, learning_rate=0.5, max_depth=-1, n_estimators=100, num_leaves=50, score=0.9342105263157895, total=   0.0s\n",
      "[CV] boosting_type=dart, learning_rate=0.5, max_depth=-1, n_estimators=100, num_leaves=50 \n",
      "[CV]  boosting_type=dart, learning_rate=0.5, max_depth=-1, n_estimators=100, num_leaves=50, score=0.9802631578947368, total=   0.0s\n",
      "[CV] boosting_type=dart, learning_rate=0.5, max_depth=-1, n_estimators=100, num_leaves=50 \n",
      "[CV]  boosting_type=dart, learning_rate=0.5, max_depth=-1, n_estimators=100, num_leaves=50, score=0.9602649006622517, total=   0.0s\n",
      "[CV] boosting_type=dart, learning_rate=0.5, max_depth=-1, n_estimators=300, num_leaves=31 \n",
      "[CV]  boosting_type=dart, learning_rate=0.5, max_depth=-1, n_estimators=300, num_leaves=31, score=0.9342105263157895, total=   0.0s\n",
      "[CV] boosting_type=dart, learning_rate=0.5, max_depth=-1, n_estimators=300, num_leaves=31 \n",
      "[CV]  boosting_type=dart, learning_rate=0.5, max_depth=-1, n_estimators=300, num_leaves=31, score=0.9802631578947368, total=   0.0s\n",
      "[CV] boosting_type=dart, learning_rate=0.5, max_depth=-1, n_estimators=300, num_leaves=31 \n",
      "[CV]  boosting_type=dart, learning_rate=0.5, max_depth=-1, n_estimators=300, num_leaves=31, score=0.9668874172185431, total=   0.0s\n",
      "[CV] boosting_type=dart, learning_rate=0.5, max_depth=-1, n_estimators=300, num_leaves=50 \n",
      "[CV]  boosting_type=dart, learning_rate=0.5, max_depth=-1, n_estimators=300, num_leaves=50, score=0.9342105263157895, total=   0.0s\n",
      "[CV] boosting_type=dart, learning_rate=0.5, max_depth=-1, n_estimators=300, num_leaves=50 \n",
      "[CV]  boosting_type=dart, learning_rate=0.5, max_depth=-1, n_estimators=300, num_leaves=50, score=0.9802631578947368, total=   0.0s\n",
      "[CV] boosting_type=dart, learning_rate=0.5, max_depth=-1, n_estimators=300, num_leaves=50 \n",
      "[CV]  boosting_type=dart, learning_rate=0.5, max_depth=-1, n_estimators=300, num_leaves=50, score=0.9668874172185431, total=   0.0s\n",
      "[CV] boosting_type=dart, learning_rate=0.5, max_depth=-1, n_estimators=1000, num_leaves=31 \n",
      "[CV]  boosting_type=dart, learning_rate=0.5, max_depth=-1, n_estimators=1000, num_leaves=31, score=0.9605263157894737, total=   0.4s\n",
      "[CV] boosting_type=dart, learning_rate=0.5, max_depth=-1, n_estimators=1000, num_leaves=31 \n",
      "[CV]  boosting_type=dart, learning_rate=0.5, max_depth=-1, n_estimators=1000, num_leaves=31, score=0.9736842105263158, total=   0.5s\n",
      "[CV] boosting_type=dart, learning_rate=0.5, max_depth=-1, n_estimators=1000, num_leaves=31 \n",
      "[CV]  boosting_type=dart, learning_rate=0.5, max_depth=-1, n_estimators=1000, num_leaves=31, score=0.9668874172185431, total=   0.3s\n",
      "[CV] boosting_type=dart, learning_rate=0.5, max_depth=-1, n_estimators=1000, num_leaves=50 \n",
      "[CV]  boosting_type=dart, learning_rate=0.5, max_depth=-1, n_estimators=1000, num_leaves=50, score=0.9605263157894737, total=   0.4s\n",
      "[CV] boosting_type=dart, learning_rate=0.5, max_depth=-1, n_estimators=1000, num_leaves=50 \n",
      "[CV]  boosting_type=dart, learning_rate=0.5, max_depth=-1, n_estimators=1000, num_leaves=50, score=0.9736842105263158, total=   0.3s\n",
      "[CV] boosting_type=dart, learning_rate=0.5, max_depth=-1, n_estimators=1000, num_leaves=50 \n",
      "[CV]  boosting_type=dart, learning_rate=0.5, max_depth=-1, n_estimators=1000, num_leaves=50, score=0.9668874172185431, total=   1.0s\n"
     ]
    },
    {
     "name": "stderr",
     "output_type": "stream",
     "text": [
      "[Parallel(n_jobs=1)]: Done  72 out of  72 | elapsed:   16.1s finished\n"
     ]
    },
    {
     "data": {
      "text/plain": [
       "GridSearchCV(cv=None, error_score='raise',\n",
       "       estimator=LGBMClassifier(boosting_type='gbdt', class_weight=None, colsample_bytree=1.0,\n",
       "        learning_rate=0.1, max_depth=-1, min_child_samples=20,\n",
       "        min_child_weight=0.001, min_split_gain=0.0, n_estimators=100,\n",
       "        n_jobs=-1, num_leaves=31, objective=None, random_state=None,\n",
       "        reg_alpha=0.0, reg_lambda=0.0, silent=True, subsample=1.0,\n",
       "        subsample_for_bin=200000, subsample_freq=1),\n",
       "       fit_params=None, iid=True, n_jobs=1,\n",
       "       param_grid={'boosting_type': ['gbdt', 'dart'], 'num_leaves': [31, 50], 'max_depth': [-1], 'learning_rate': [0.1, 0.5], 'n_estimators': [100, 300, 1000]},\n",
       "       pre_dispatch='2*n_jobs', refit=True, return_train_score='warn',\n",
       "       scoring=None, verbose=5)"
      ]
     },
     "execution_count": 151,
     "metadata": {},
     "output_type": "execute_result"
    }
   ],
   "source": [
    "#### LightGBM\n",
    "#model\n",
    "model = LGBMClassifier()\n",
    "\n",
    "#grid search parmaters\n",
    "para = para =  {'boosting_type':['gbdt', 'dart'],\n",
    "        'num_leaves':[31, 50],\n",
    "        'max_depth':[-1],\n",
    "        'learning_rate':[0.1, 0.5],\n",
    "        'n_estimators':[100,300, 1000]}\n",
    "\n",
    "#grid search\n",
    "grid_search = GridSearchCV(estimator=model,\n",
    "                            param_grid=para,\n",
    "                            scoring=None,\n",
    "                            fit_params=None,\n",
    "                            n_jobs=1, iid=True,\n",
    "                            refit=True,\n",
    "                            cv=None,\n",
    "                            verbose=5,\n",
    "                            pre_dispatch='2*n_jobs',\n",
    "                            error_score='raise',\n",
    "                            return_train_score='warn')\n",
    "\n",
    "\n",
    "#GridSearch fit\n",
    "grid_search.fit(X_train,y_train)"
   ]
  },
  {
   "cell_type": "code",
   "execution_count": 152,
   "metadata": {},
   "outputs": [
    {
     "name": "stdout",
     "output_type": "stream",
     "text": [
      "{'boosting_type': 'dart', 'learning_rate': 0.5, 'max_depth': -1, 'n_estimators': 1000, 'num_leaves': 31}\n"
     ]
    }
   ],
   "source": [
    "#Best GridSearch Paramters\n",
    "print(grid_search.best_params_)\n",
    "\n",
    "#Best GridSearch estimator\n",
    "best_gridsearch4= grid_search.best_estimator_\n",
    "\n",
    "#Fit model with best estimator\n",
    "#best_gridsearch.fit(X_train, y_test)"
   ]
  },
  {
   "cell_type": "code",
   "execution_count": null,
   "metadata": {
    "collapsed": true
   },
   "outputs": [],
   "source": []
  }
 ],
 "metadata": {
  "kernelspec": {
   "display_name": "Python 3",
   "language": "python",
   "name": "python3"
  },
  "language_info": {
   "codemirror_mode": {
    "name": "ipython",
    "version": 3
   },
   "file_extension": ".py",
   "mimetype": "text/x-python",
   "name": "python",
   "nbconvert_exporter": "python",
   "pygments_lexer": "ipython3",
   "version": "3.6.3"
  }
 },
 "nbformat": 4,
 "nbformat_minor": 2
}
